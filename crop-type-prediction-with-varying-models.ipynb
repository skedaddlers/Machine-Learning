{
 "cells": [
  {
   "cell_type": "markdown",
   "id": "f3e68965",
   "metadata": {
    "papermill": {
     "duration": 0.011528,
     "end_time": "2024-05-15T18:44:41.337832",
     "exception": false,
     "start_time": "2024-05-15T18:44:41.326304",
     "status": "completed"
    },
    "tags": []
   },
   "source": [
    "## k-NN, Decision Tree, Naive Bayes, SVM, Simple Neural Network For Crop Prediciton"
   ]
  },
  {
   "cell_type": "code",
   "execution_count": 1,
   "id": "ec58bdc6",
   "metadata": {
    "_cell_guid": "b1076dfc-b9ad-4769-8c92-a6c4dae69d19",
    "_uuid": "8f2839f25d086af736a60e9eeb907d3b93b6e0e5",
    "execution": {
     "iopub.execute_input": "2024-05-15T18:44:41.362982Z",
     "iopub.status.busy": "2024-05-15T18:44:41.361936Z",
     "iopub.status.idle": "2024-05-15T18:44:42.279783Z",
     "shell.execute_reply": "2024-05-15T18:44:42.278883Z"
    },
    "papermill": {
     "duration": 0.933619,
     "end_time": "2024-05-15T18:44:42.282691",
     "exception": false,
     "start_time": "2024-05-15T18:44:41.349072",
     "status": "completed"
    },
    "tags": []
   },
   "outputs": [
    {
     "name": "stdout",
     "output_type": "stream",
     "text": [
      "/kaggle/input/crop-recommendation-dataset/Crop_Recommendation.csv\n"
     ]
    }
   ],
   "source": [
    "# This Python 3 environment comes with many helpful analytics libraries installed\n",
    "# It is defined by the kaggle/python Docker image: https://github.com/kaggle/docker-python\n",
    "# For example, here's several helpful packages to load\n",
    "\n",
    "import numpy as np # linear algebra\n",
    "import pandas as pd # data processing, CSV file I/O (e.g. pd.read_csv)\n",
    "\n",
    "# Input data files are available in the read-only \"../input/\" directory\n",
    "# For example, running this (by clicking run or pressing Shift+Enter) will list all files under the input directory\n",
    "\n",
    "import os\n",
    "for dirname, _, filenames in os.walk('/kaggle/input'):\n",
    "    for filename in filenames:\n",
    "        print(os.path.join(dirname, filename))\n",
    "\n",
    "# You can write up to 20GB to the current directory (/kaggle/working/) that gets preserved as output when you create a version using \"Save & Run All\" \n",
    "# You can also write temporary files to /kaggle/temp/, but they won't be saved outside of the current session"
   ]
  },
  {
   "cell_type": "markdown",
   "id": "dc6e556a",
   "metadata": {
    "papermill": {
     "duration": 0.01133,
     "end_time": "2024-05-15T18:44:42.305370",
     "exception": false,
     "start_time": "2024-05-15T18:44:42.294040",
     "status": "completed"
    },
    "tags": []
   },
   "source": [
    "## Read Data"
   ]
  },
  {
   "cell_type": "code",
   "execution_count": 2,
   "id": "1830a8a3",
   "metadata": {
    "execution": {
     "iopub.execute_input": "2024-05-15T18:44:42.330146Z",
     "iopub.status.busy": "2024-05-15T18:44:42.329112Z",
     "iopub.status.idle": "2024-05-15T18:44:42.357219Z",
     "shell.execute_reply": "2024-05-15T18:44:42.356184Z"
    },
    "papermill": {
     "duration": 0.043364,
     "end_time": "2024-05-15T18:44:42.359755",
     "exception": false,
     "start_time": "2024-05-15T18:44:42.316391",
     "status": "completed"
    },
    "tags": []
   },
   "outputs": [],
   "source": [
    "df = pd.read_csv('/kaggle/input/crop-recommendation-dataset/Crop_Recommendation.csv')"
   ]
  },
  {
   "cell_type": "markdown",
   "id": "d73916a7",
   "metadata": {
    "papermill": {
     "duration": 0.010249,
     "end_time": "2024-05-15T18:44:42.381128",
     "exception": false,
     "start_time": "2024-05-15T18:44:42.370879",
     "status": "completed"
    },
    "tags": []
   },
   "source": [
    "## Analyzing and Cleaning The Data"
   ]
  },
  {
   "cell_type": "code",
   "execution_count": 3,
   "id": "c1bc6a45",
   "metadata": {
    "execution": {
     "iopub.execute_input": "2024-05-15T18:44:42.404506Z",
     "iopub.status.busy": "2024-05-15T18:44:42.403587Z",
     "iopub.status.idle": "2024-05-15T18:44:42.431017Z",
     "shell.execute_reply": "2024-05-15T18:44:42.429687Z"
    },
    "papermill": {
     "duration": 0.04173,
     "end_time": "2024-05-15T18:44:42.433450",
     "exception": false,
     "start_time": "2024-05-15T18:44:42.391720",
     "status": "completed"
    },
    "tags": []
   },
   "outputs": [
    {
     "data": {
      "text/html": [
       "<div>\n",
       "<style scoped>\n",
       "    .dataframe tbody tr th:only-of-type {\n",
       "        vertical-align: middle;\n",
       "    }\n",
       "\n",
       "    .dataframe tbody tr th {\n",
       "        vertical-align: top;\n",
       "    }\n",
       "\n",
       "    .dataframe thead th {\n",
       "        text-align: right;\n",
       "    }\n",
       "</style>\n",
       "<table border=\"1\" class=\"dataframe\">\n",
       "  <thead>\n",
       "    <tr style=\"text-align: right;\">\n",
       "      <th></th>\n",
       "      <th>Nitrogen</th>\n",
       "      <th>Phosphorus</th>\n",
       "      <th>Potassium</th>\n",
       "      <th>Temperature</th>\n",
       "      <th>Humidity</th>\n",
       "      <th>pH_Value</th>\n",
       "      <th>Rainfall</th>\n",
       "      <th>Crop</th>\n",
       "    </tr>\n",
       "  </thead>\n",
       "  <tbody>\n",
       "    <tr>\n",
       "      <th>0</th>\n",
       "      <td>90</td>\n",
       "      <td>42</td>\n",
       "      <td>43</td>\n",
       "      <td>20.879744</td>\n",
       "      <td>82.002744</td>\n",
       "      <td>6.502985</td>\n",
       "      <td>202.935536</td>\n",
       "      <td>Rice</td>\n",
       "    </tr>\n",
       "    <tr>\n",
       "      <th>1</th>\n",
       "      <td>85</td>\n",
       "      <td>58</td>\n",
       "      <td>41</td>\n",
       "      <td>21.770462</td>\n",
       "      <td>80.319644</td>\n",
       "      <td>7.038096</td>\n",
       "      <td>226.655537</td>\n",
       "      <td>Rice</td>\n",
       "    </tr>\n",
       "    <tr>\n",
       "      <th>2</th>\n",
       "      <td>60</td>\n",
       "      <td>55</td>\n",
       "      <td>44</td>\n",
       "      <td>23.004459</td>\n",
       "      <td>82.320763</td>\n",
       "      <td>7.840207</td>\n",
       "      <td>263.964248</td>\n",
       "      <td>Rice</td>\n",
       "    </tr>\n",
       "    <tr>\n",
       "      <th>3</th>\n",
       "      <td>74</td>\n",
       "      <td>35</td>\n",
       "      <td>40</td>\n",
       "      <td>26.491096</td>\n",
       "      <td>80.158363</td>\n",
       "      <td>6.980401</td>\n",
       "      <td>242.864034</td>\n",
       "      <td>Rice</td>\n",
       "    </tr>\n",
       "    <tr>\n",
       "      <th>4</th>\n",
       "      <td>78</td>\n",
       "      <td>42</td>\n",
       "      <td>42</td>\n",
       "      <td>20.130175</td>\n",
       "      <td>81.604873</td>\n",
       "      <td>7.628473</td>\n",
       "      <td>262.717340</td>\n",
       "      <td>Rice</td>\n",
       "    </tr>\n",
       "  </tbody>\n",
       "</table>\n",
       "</div>"
      ],
      "text/plain": [
       "   Nitrogen  Phosphorus  Potassium  Temperature   Humidity  pH_Value  \\\n",
       "0        90          42         43    20.879744  82.002744  6.502985   \n",
       "1        85          58         41    21.770462  80.319644  7.038096   \n",
       "2        60          55         44    23.004459  82.320763  7.840207   \n",
       "3        74          35         40    26.491096  80.158363  6.980401   \n",
       "4        78          42         42    20.130175  81.604873  7.628473   \n",
       "\n",
       "     Rainfall  Crop  \n",
       "0  202.935536  Rice  \n",
       "1  226.655537  Rice  \n",
       "2  263.964248  Rice  \n",
       "3  242.864034  Rice  \n",
       "4  262.717340  Rice  "
      ]
     },
     "execution_count": 3,
     "metadata": {},
     "output_type": "execute_result"
    }
   ],
   "source": [
    "df.head()"
   ]
  },
  {
   "cell_type": "code",
   "execution_count": 4,
   "id": "da3b89f4",
   "metadata": {
    "execution": {
     "iopub.execute_input": "2024-05-15T18:44:42.459212Z",
     "iopub.status.busy": "2024-05-15T18:44:42.458418Z",
     "iopub.status.idle": "2024-05-15T18:44:42.471139Z",
     "shell.execute_reply": "2024-05-15T18:44:42.469999Z"
    },
    "papermill": {
     "duration": 0.027317,
     "end_time": "2024-05-15T18:44:42.473400",
     "exception": false,
     "start_time": "2024-05-15T18:44:42.446083",
     "status": "completed"
    },
    "tags": []
   },
   "outputs": [
    {
     "data": {
      "text/plain": [
       "Nitrogen       0\n",
       "Phosphorus     0\n",
       "Potassium      0\n",
       "Temperature    0\n",
       "Humidity       0\n",
       "pH_Value       0\n",
       "Rainfall       0\n",
       "Crop           0\n",
       "dtype: int64"
      ]
     },
     "execution_count": 4,
     "metadata": {},
     "output_type": "execute_result"
    }
   ],
   "source": [
    "df.isna().sum()"
   ]
  },
  {
   "cell_type": "code",
   "execution_count": 5,
   "id": "e8c12d10",
   "metadata": {
    "execution": {
     "iopub.execute_input": "2024-05-15T18:44:42.497695Z",
     "iopub.status.busy": "2024-05-15T18:44:42.497288Z",
     "iopub.status.idle": "2024-05-15T18:44:42.511179Z",
     "shell.execute_reply": "2024-05-15T18:44:42.509802Z"
    },
    "papermill": {
     "duration": 0.029253,
     "end_time": "2024-05-15T18:44:42.513836",
     "exception": false,
     "start_time": "2024-05-15T18:44:42.484583",
     "status": "completed"
    },
    "tags": []
   },
   "outputs": [
    {
     "data": {
      "text/plain": [
       "Crop\n",
       "Rice           100\n",
       "Maize          100\n",
       "Jute           100\n",
       "Cotton         100\n",
       "Coconut        100\n",
       "Papaya         100\n",
       "Orange         100\n",
       "Apple          100\n",
       "Muskmelon      100\n",
       "Watermelon     100\n",
       "Grapes         100\n",
       "Mango          100\n",
       "Banana         100\n",
       "Pomegranate    100\n",
       "Lentil         100\n",
       "Blackgram      100\n",
       "MungBean       100\n",
       "MothBeans      100\n",
       "PigeonPeas     100\n",
       "KidneyBeans    100\n",
       "ChickPea       100\n",
       "Coffee         100\n",
       "Name: count, dtype: int64"
      ]
     },
     "execution_count": 5,
     "metadata": {},
     "output_type": "execute_result"
    }
   ],
   "source": [
    "df['Crop'].value_counts()"
   ]
  },
  {
   "cell_type": "code",
   "execution_count": 6,
   "id": "996ef086",
   "metadata": {
    "execution": {
     "iopub.execute_input": "2024-05-15T18:44:42.538659Z",
     "iopub.status.busy": "2024-05-15T18:44:42.538243Z",
     "iopub.status.idle": "2024-05-15T18:44:42.547555Z",
     "shell.execute_reply": "2024-05-15T18:44:42.546421Z"
    },
    "papermill": {
     "duration": 0.024523,
     "end_time": "2024-05-15T18:44:42.549856",
     "exception": false,
     "start_time": "2024-05-15T18:44:42.525333",
     "status": "completed"
    },
    "tags": []
   },
   "outputs": [
    {
     "data": {
      "text/plain": [
       "22"
      ]
     },
     "execution_count": 6,
     "metadata": {},
     "output_type": "execute_result"
    }
   ],
   "source": [
    "num_class = df['Crop'].nunique()\n",
    "num_class"
   ]
  },
  {
   "cell_type": "code",
   "execution_count": 7,
   "id": "2d8e11b2",
   "metadata": {
    "execution": {
     "iopub.execute_input": "2024-05-15T18:44:42.574523Z",
     "iopub.status.busy": "2024-05-15T18:44:42.574114Z",
     "iopub.status.idle": "2024-05-15T18:44:42.609417Z",
     "shell.execute_reply": "2024-05-15T18:44:42.608528Z"
    },
    "papermill": {
     "duration": 0.050873,
     "end_time": "2024-05-15T18:44:42.612162",
     "exception": false,
     "start_time": "2024-05-15T18:44:42.561289",
     "status": "completed"
    },
    "tags": []
   },
   "outputs": [
    {
     "data": {
      "text/html": [
       "<div>\n",
       "<style scoped>\n",
       "    .dataframe tbody tr th:only-of-type {\n",
       "        vertical-align: middle;\n",
       "    }\n",
       "\n",
       "    .dataframe tbody tr th {\n",
       "        vertical-align: top;\n",
       "    }\n",
       "\n",
       "    .dataframe thead th {\n",
       "        text-align: right;\n",
       "    }\n",
       "</style>\n",
       "<table border=\"1\" class=\"dataframe\">\n",
       "  <thead>\n",
       "    <tr style=\"text-align: right;\">\n",
       "      <th></th>\n",
       "      <th>Nitrogen</th>\n",
       "      <th>Phosphorus</th>\n",
       "      <th>Potassium</th>\n",
       "      <th>Temperature</th>\n",
       "      <th>Humidity</th>\n",
       "      <th>pH_Value</th>\n",
       "      <th>Rainfall</th>\n",
       "    </tr>\n",
       "  </thead>\n",
       "  <tbody>\n",
       "    <tr>\n",
       "      <th>count</th>\n",
       "      <td>2200.000000</td>\n",
       "      <td>2200.000000</td>\n",
       "      <td>2200.000000</td>\n",
       "      <td>2200.000000</td>\n",
       "      <td>2200.000000</td>\n",
       "      <td>2200.000000</td>\n",
       "      <td>2200.000000</td>\n",
       "    </tr>\n",
       "    <tr>\n",
       "      <th>mean</th>\n",
       "      <td>50.551818</td>\n",
       "      <td>53.362727</td>\n",
       "      <td>48.149091</td>\n",
       "      <td>25.616244</td>\n",
       "      <td>71.481779</td>\n",
       "      <td>6.469480</td>\n",
       "      <td>103.463655</td>\n",
       "    </tr>\n",
       "    <tr>\n",
       "      <th>std</th>\n",
       "      <td>36.917334</td>\n",
       "      <td>32.985883</td>\n",
       "      <td>50.647931</td>\n",
       "      <td>5.063749</td>\n",
       "      <td>22.263812</td>\n",
       "      <td>0.773938</td>\n",
       "      <td>54.958389</td>\n",
       "    </tr>\n",
       "    <tr>\n",
       "      <th>min</th>\n",
       "      <td>0.000000</td>\n",
       "      <td>5.000000</td>\n",
       "      <td>5.000000</td>\n",
       "      <td>8.825675</td>\n",
       "      <td>14.258040</td>\n",
       "      <td>3.504752</td>\n",
       "      <td>20.211267</td>\n",
       "    </tr>\n",
       "    <tr>\n",
       "      <th>25%</th>\n",
       "      <td>21.000000</td>\n",
       "      <td>28.000000</td>\n",
       "      <td>20.000000</td>\n",
       "      <td>22.769375</td>\n",
       "      <td>60.261953</td>\n",
       "      <td>5.971693</td>\n",
       "      <td>64.551686</td>\n",
       "    </tr>\n",
       "    <tr>\n",
       "      <th>50%</th>\n",
       "      <td>37.000000</td>\n",
       "      <td>51.000000</td>\n",
       "      <td>32.000000</td>\n",
       "      <td>25.598693</td>\n",
       "      <td>80.473146</td>\n",
       "      <td>6.425045</td>\n",
       "      <td>94.867624</td>\n",
       "    </tr>\n",
       "    <tr>\n",
       "      <th>75%</th>\n",
       "      <td>84.250000</td>\n",
       "      <td>68.000000</td>\n",
       "      <td>49.000000</td>\n",
       "      <td>28.561654</td>\n",
       "      <td>89.948771</td>\n",
       "      <td>6.923643</td>\n",
       "      <td>124.267508</td>\n",
       "    </tr>\n",
       "    <tr>\n",
       "      <th>max</th>\n",
       "      <td>140.000000</td>\n",
       "      <td>145.000000</td>\n",
       "      <td>205.000000</td>\n",
       "      <td>43.675493</td>\n",
       "      <td>99.981876</td>\n",
       "      <td>9.935091</td>\n",
       "      <td>298.560117</td>\n",
       "    </tr>\n",
       "  </tbody>\n",
       "</table>\n",
       "</div>"
      ],
      "text/plain": [
       "          Nitrogen   Phosphorus    Potassium  Temperature     Humidity  \\\n",
       "count  2200.000000  2200.000000  2200.000000  2200.000000  2200.000000   \n",
       "mean     50.551818    53.362727    48.149091    25.616244    71.481779   \n",
       "std      36.917334    32.985883    50.647931     5.063749    22.263812   \n",
       "min       0.000000     5.000000     5.000000     8.825675    14.258040   \n",
       "25%      21.000000    28.000000    20.000000    22.769375    60.261953   \n",
       "50%      37.000000    51.000000    32.000000    25.598693    80.473146   \n",
       "75%      84.250000    68.000000    49.000000    28.561654    89.948771   \n",
       "max     140.000000   145.000000   205.000000    43.675493    99.981876   \n",
       "\n",
       "          pH_Value     Rainfall  \n",
       "count  2200.000000  2200.000000  \n",
       "mean      6.469480   103.463655  \n",
       "std       0.773938    54.958389  \n",
       "min       3.504752    20.211267  \n",
       "25%       5.971693    64.551686  \n",
       "50%       6.425045    94.867624  \n",
       "75%       6.923643   124.267508  \n",
       "max       9.935091   298.560117  "
      ]
     },
     "execution_count": 7,
     "metadata": {},
     "output_type": "execute_result"
    }
   ],
   "source": [
    "df.describe()"
   ]
  },
  {
   "cell_type": "code",
   "execution_count": 8,
   "id": "a90a040c",
   "metadata": {
    "execution": {
     "iopub.execute_input": "2024-05-15T18:44:42.638595Z",
     "iopub.status.busy": "2024-05-15T18:44:42.637985Z",
     "iopub.status.idle": "2024-05-15T18:44:44.562960Z",
     "shell.execute_reply": "2024-05-15T18:44:44.561799Z"
    },
    "papermill": {
     "duration": 1.940896,
     "end_time": "2024-05-15T18:44:44.565548",
     "exception": false,
     "start_time": "2024-05-15T18:44:42.624652",
     "status": "completed"
    },
    "tags": []
   },
   "outputs": [
    {
     "data": {
      "image/png": "[encoded data removed]",
      "text/plain": [
       "<Figure size 1000x800 with 2 Axes>"
      ]
     },
     "metadata": {},
     "output_type": "display_data"
    }
   ],
   "source": [
    "import matplotlib.pyplot as plt\n",
    "import seaborn as sns\n",
    "\n",
    "features = df.drop(['Crop'], axis=1)\n",
    "plot = features.corr()\n",
    "\n",
    "plt.figure(figsize=(10, 8))\n",
    "sns.heatmap(plot, annot=True, cmap='coolwarm', linewidths=0.5)\n",
    "\n",
    "plt.title('Correlation Heatmap', fontsize=14)\n",
    "plt.xlabel('Features', fontsize=12)\n",
    "plt.ylabel('Features', fontsize=12)\n",
    "\n",
    "plt.show()"
   ]
  },
  {
   "cell_type": "code",
   "execution_count": 9,
   "id": "1aa2a06a",
   "metadata": {
    "execution": {
     "iopub.execute_input": "2024-05-15T18:44:44.593983Z",
     "iopub.status.busy": "2024-05-15T18:44:44.593023Z",
     "iopub.status.idle": "2024-05-15T18:44:44.967824Z",
     "shell.execute_reply": "2024-05-15T18:44:44.966943Z"
    },
    "papermill": {
     "duration": 0.391305,
     "end_time": "2024-05-15T18:44:44.970091",
     "exception": false,
     "start_time": "2024-05-15T18:44:44.578786",
     "status": "completed"
    },
    "tags": []
   },
   "outputs": [
    {
     "data": {
      "image/png": "[encoded data removed]",
      "text/plain": [
       "<Figure size 1500x1000 with 1 Axes>"
      ]
     },
     "metadata": {},
     "output_type": "display_data"
    }
   ],
   "source": [
    "plt.figure(figsize=(15, 10))\n",
    "sns.boxplot(df)\n",
    "plt.show()"
   ]
  },
  {
   "cell_type": "markdown",
   "id": "e601462e",
   "metadata": {
    "papermill": {
     "duration": 0.013399,
     "end_time": "2024-05-15T18:44:44.997487",
     "exception": false,
     "start_time": "2024-05-15T18:44:44.984088",
     "status": "completed"
    },
    "tags": []
   },
   "source": [
    "## The Models"
   ]
  },
  {
   "cell_type": "markdown",
   "id": "1eca864a",
   "metadata": {
    "papermill": {
     "duration": 0.013195,
     "end_time": "2024-05-15T18:44:45.024383",
     "exception": false,
     "start_time": "2024-05-15T18:44:45.011188",
     "status": "completed"
    },
    "tags": []
   },
   "source": [
    "#### Import Dependencies"
   ]
  },
  {
   "cell_type": "code",
   "execution_count": 10,
   "id": "b3b29beb",
   "metadata": {
    "execution": {
     "iopub.execute_input": "2024-05-15T18:44:45.053646Z",
     "iopub.status.busy": "2024-05-15T18:44:45.053017Z",
     "iopub.status.idle": "2024-05-15T18:44:58.656892Z",
     "shell.execute_reply": "2024-05-15T18:44:58.655646Z"
    },
    "papermill": {
     "duration": 13.621871,
     "end_time": "2024-05-15T18:44:58.659856",
     "exception": false,
     "start_time": "2024-05-15T18:44:45.037985",
     "status": "completed"
    },
    "tags": []
   },
   "outputs": [
    {
     "name": "stderr",
     "output_type": "stream",
     "text": [
      "2024-05-15 18:44:47.377381: E external/local_xla/xla/stream_executor/cuda/cuda_dnn.cc:9261] Unable to register cuDNN factory: Attempting to register factory for plugin cuDNN when one has already been registered\n",
      "2024-05-15 18:44:47.377503: E external/local_xla/xla/stream_executor/cuda/cuda_fft.cc:607] Unable to register cuFFT factory: Attempting to register factory for plugin cuFFT when one has already been registered\n",
      "2024-05-15 18:44:47.509943: E external/local_xla/xla/stream_executor/cuda/cuda_blas.cc:1515] Unable to register cuBLAS factory: Attempting to register factory for plugin cuBLAS when one has already been registered\n"
     ]
    }
   ],
   "source": [
    "from sklearn.preprocessing import StandardScaler, LabelEncoder\n",
    "from sklearn.model_selection import train_test_split, cross_val_score\n",
    "from sklearn.metrics import accuracy_score, classification_report\n",
    "\n",
    "# k-Nearest Neighbors\n",
    "from sklearn.neighbors import KNeighborsClassifier\n",
    "# Decicion Tree\n",
    "from sklearn.tree import DecisionTreeClassifier\n",
    "# Naive Bayes Models\n",
    "from sklearn.naive_bayes import GaussianNB, BernoulliNB\n",
    "# SUpport Vector Machine\n",
    "from sklearn.svm import SVC\n",
    "# Artificial Neural Network\n",
    "from tensorflow.keras.models import Sequential\n",
    "from tensorflow.keras.layers import Dense, Input\n",
    "from tensorflow.keras.utils import to_categorical"
   ]
  },
  {
   "cell_type": "markdown",
   "id": "b0a0ffb2",
   "metadata": {
    "papermill": {
     "duration": 0.014474,
     "end_time": "2024-05-15T18:44:58.688233",
     "exception": false,
     "start_time": "2024-05-15T18:44:58.673759",
     "status": "completed"
    },
    "tags": []
   },
   "source": [
    "#### Preparing The Data, Train Data, and Test Data"
   ]
  },
  {
   "cell_type": "code",
   "execution_count": 11,
   "id": "551937f2",
   "metadata": {
    "execution": {
     "iopub.execute_input": "2024-05-15T18:44:58.717615Z",
     "iopub.status.busy": "2024-05-15T18:44:58.716899Z",
     "iopub.status.idle": "2024-05-15T18:44:58.731514Z",
     "shell.execute_reply": "2024-05-15T18:44:58.730264Z"
    },
    "papermill": {
     "duration": 0.031668,
     "end_time": "2024-05-15T18:44:58.733690",
     "exception": false,
     "start_time": "2024-05-15T18:44:58.702022",
     "status": "completed"
    },
    "tags": []
   },
   "outputs": [
    {
     "name": "stdout",
     "output_type": "stream",
     "text": [
      "X Shape = (2200, 7)\n",
      "y Shape = (2200,)\n"
     ]
    }
   ],
   "source": [
    "X = df.iloc[:, :-1].values\n",
    "y = df.iloc[:, -1].values\n",
    "\n",
    "scaler = StandardScaler()\n",
    "X_scaled = scaler.fit_transform(X)\n",
    "\n",
    "label_encoder = LabelEncoder()\n",
    "y_encoded = label_encoder.fit_transform(y)\n",
    "\n",
    "X_train, X_test, y_train, y_test = train_test_split(X_scaled, y_encoded, test_size=0.2, random_state=42)\n",
    "print(f\"X Shape = {X.shape}\")\n",
    "print(f\"y Shape = {y.shape}\")\n"
   ]
  },
  {
   "cell_type": "markdown",
   "id": "d6e4cc1d",
   "metadata": {
    "papermill": {
     "duration": 0.013194,
     "end_time": "2024-05-15T18:44:58.760914",
     "exception": false,
     "start_time": "2024-05-15T18:44:58.747720",
     "status": "completed"
    },
    "tags": []
   },
   "source": [
    "#### k-NN"
   ]
  },
  {
   "cell_type": "markdown",
   "id": "99487121",
   "metadata": {
    "papermill": {
     "duration": 0.013409,
     "end_time": "2024-05-15T18:44:58.787792",
     "exception": false,
     "start_time": "2024-05-15T18:44:58.774383",
     "status": "completed"
    },
    "tags": []
   },
   "source": [
    "with k=5"
   ]
  },
  {
   "cell_type": "code",
   "execution_count": 12,
   "id": "2f6da723",
   "metadata": {
    "execution": {
     "iopub.execute_input": "2024-05-15T18:44:58.816731Z",
     "iopub.status.busy": "2024-05-15T18:44:58.816286Z",
     "iopub.status.idle": "2024-05-15T18:44:58.870651Z",
     "shell.execute_reply": "2024-05-15T18:44:58.869512Z"
    },
    "papermill": {
     "duration": 0.071796,
     "end_time": "2024-05-15T18:44:58.873242",
     "exception": false,
     "start_time": "2024-05-15T18:44:58.801446",
     "status": "completed"
    },
    "tags": []
   },
   "outputs": [
    {
     "name": "stdout",
     "output_type": "stream",
     "text": [
      "Accuracy: 0.96\n",
      "Classification Report:\n",
      "              precision    recall  f1-score   support\n",
      "\n",
      "           0       1.00      1.00      1.00        23\n",
      "           1       1.00      1.00      1.00        21\n",
      "           2       0.95      0.95      0.95        20\n",
      "           3       1.00      1.00      1.00        26\n",
      "           4       1.00      1.00      1.00        27\n",
      "           5       0.94      1.00      0.97        17\n",
      "           6       0.89      1.00      0.94        17\n",
      "           7       1.00      1.00      1.00        14\n",
      "           8       0.81      0.96      0.88        23\n",
      "           9       0.91      1.00      0.95        20\n",
      "          10       0.69      1.00      0.81        11\n",
      "          11       1.00      0.90      0.95        21\n",
      "          12       0.90      1.00      0.95        19\n",
      "          13       1.00      0.83      0.91        24\n",
      "          14       1.00      1.00      1.00        19\n",
      "          15       1.00      1.00      1.00        17\n",
      "          16       1.00      1.00      1.00        14\n",
      "          17       1.00      0.96      0.98        23\n",
      "          18       1.00      0.78      0.88        23\n",
      "          19       1.00      1.00      1.00        23\n",
      "          20       0.93      0.74      0.82        19\n",
      "          21       1.00      1.00      1.00        19\n",
      "\n",
      "    accuracy                           0.96       440\n",
      "   macro avg       0.96      0.96      0.95       440\n",
      "weighted avg       0.96      0.96      0.96       440\n",
      "\n"
     ]
    }
   ],
   "source": [
    "knn = KNeighborsClassifier(n_neighbors=5)\n",
    "\n",
    "knn.fit(X_train, y_train)\n",
    "\n",
    "y_pred = knn.predict(X_test)\n",
    "\n",
    "# Calculate accuracy\n",
    "knn_accuracy = accuracy_score(y_test, y_pred)\n",
    "print(f'Accuracy: {knn_accuracy:.2f}')\n",
    "\n",
    "# Classification report\n",
    "print('Classification Report:')\n",
    "print(classification_report(y_test, y_pred))"
   ]
  },
  {
   "cell_type": "markdown",
   "id": "c005422f",
   "metadata": {
    "papermill": {
     "duration": 0.013424,
     "end_time": "2024-05-15T18:44:58.900672",
     "exception": false,
     "start_time": "2024-05-15T18:44:58.887248",
     "status": "completed"
    },
    "tags": []
   },
   "source": [
    "find the best k"
   ]
  },
  {
   "cell_type": "code",
   "execution_count": 13,
   "id": "2c26ea4b",
   "metadata": {
    "execution": {
     "iopub.execute_input": "2024-05-15T18:44:58.930169Z",
     "iopub.status.busy": "2024-05-15T18:44:58.929810Z",
     "iopub.status.idle": "2024-05-15T18:45:04.179231Z",
     "shell.execute_reply": "2024-05-15T18:45:04.177763Z"
    },
    "papermill": {
     "duration": 5.26759,
     "end_time": "2024-05-15T18:45:04.182126",
     "exception": false,
     "start_time": "2024-05-15T18:44:58.914536",
     "status": "completed"
    },
    "tags": []
   },
   "outputs": [
    {
     "name": "stdout",
     "output_type": "stream",
     "text": [
      "The best value for k is: 1\n",
      "Accuracy with k=1: 0.96\n",
      "Classification Report:\n",
      "              precision    recall  f1-score   support\n",
      "\n",
      "           0       1.00      1.00      1.00        23\n",
      "           1       1.00      1.00      1.00        21\n",
      "           2       1.00      0.90      0.95        20\n",
      "           3       1.00      1.00      1.00        26\n",
      "           4       1.00      1.00      1.00        27\n",
      "           5       1.00      1.00      1.00        17\n",
      "           6       0.89      1.00      0.94        17\n",
      "           7       1.00      1.00      1.00        14\n",
      "           8       0.81      0.91      0.86        23\n",
      "           9       0.91      1.00      0.95        20\n",
      "          10       0.69      1.00      0.81        11\n",
      "          11       1.00      0.90      0.95        21\n",
      "          12       1.00      1.00      1.00        19\n",
      "          13       1.00      0.88      0.93        24\n",
      "          14       1.00      1.00      1.00        19\n",
      "          15       1.00      1.00      1.00        17\n",
      "          16       1.00      1.00      1.00        14\n",
      "          17       1.00      1.00      1.00        23\n",
      "          18       1.00      0.91      0.95        23\n",
      "          19       1.00      1.00      1.00        23\n",
      "          20       0.88      0.74      0.80        19\n",
      "          21       1.00      1.00      1.00        19\n",
      "\n",
      "    accuracy                           0.96       440\n",
      "   macro avg       0.96      0.97      0.96       440\n",
      "weighted avg       0.97      0.96      0.96       440\n",
      "\n"
     ]
    }
   ],
   "source": [
    "k_range = range(1, 31)\n",
    "k_scores = []\n",
    "\n",
    "for k in k_range:\n",
    "    knn = KNeighborsClassifier(n_neighbors=k)\n",
    "    scores = cross_val_score(knn, X_train, y_train, cv=10, scoring='accuracy')  # 10-fold cross-validation\n",
    "    k_scores.append(scores.mean())\n",
    "\n",
    "# Find the value of k with the highest cross-validation score\n",
    "best_k = k_range[np.argmax(k_scores)]\n",
    "print(f'The best value for k is: {best_k}')\n",
    "\n",
    "# Step 6: Evaluate the model with the best k\n",
    "knn = KNeighborsClassifier(n_neighbors=best_k)\n",
    "knn.fit(X_train, y_train)\n",
    "y_pred = knn.predict(X_test)\n",
    "\n",
    "# Calculate accuracy\n",
    "knn_accuracy = accuracy_score(y_test, y_pred)\n",
    "print(f'Accuracy with k={best_k}: {knn_accuracy:.2f}')\n",
    "\n",
    "# Classification report\n",
    "print('Classification Report:')\n",
    "print(classification_report(y_test, y_pred))"
   ]
  },
  {
   "cell_type": "markdown",
   "id": "9f1c39f6",
   "metadata": {
    "papermill": {
     "duration": 0.014944,
     "end_time": "2024-05-15T18:45:04.211661",
     "exception": false,
     "start_time": "2024-05-15T18:45:04.196717",
     "status": "completed"
    },
    "tags": []
   },
   "source": [
    "#### Decision Tree"
   ]
  },
  {
   "cell_type": "code",
   "execution_count": 14,
   "id": "af2f038d",
   "metadata": {
    "execution": {
     "iopub.execute_input": "2024-05-15T18:45:04.242323Z",
     "iopub.status.busy": "2024-05-15T18:45:04.241933Z",
     "iopub.status.idle": "2024-05-15T18:45:04.274356Z",
     "shell.execute_reply": "2024-05-15T18:45:04.272368Z"
    },
    "papermill": {
     "duration": 0.051651,
     "end_time": "2024-05-15T18:45:04.277746",
     "exception": false,
     "start_time": "2024-05-15T18:45:04.226095",
     "status": "completed"
    },
    "tags": []
   },
   "outputs": [
    {
     "name": "stdout",
     "output_type": "stream",
     "text": [
      "Accuracy: 0.98\n",
      "Classification Report:\n",
      "              precision    recall  f1-score   support\n",
      "\n",
      "           0       1.00      1.00      1.00        23\n",
      "           1       1.00      1.00      1.00        21\n",
      "           2       0.95      1.00      0.98        20\n",
      "           3       1.00      1.00      1.00        26\n",
      "           4       1.00      1.00      1.00        27\n",
      "           5       1.00      1.00      1.00        17\n",
      "           6       1.00      1.00      1.00        17\n",
      "           7       1.00      1.00      1.00        14\n",
      "           8       0.91      0.87      0.89        23\n",
      "           9       1.00      1.00      1.00        20\n",
      "          10       0.92      1.00      0.96        11\n",
      "          11       1.00      0.95      0.98        21\n",
      "          12       1.00      1.00      1.00        19\n",
      "          13       1.00      0.92      0.96        24\n",
      "          14       0.95      1.00      0.97        19\n",
      "          15       1.00      1.00      1.00        17\n",
      "          16       1.00      1.00      1.00        14\n",
      "          17       1.00      1.00      1.00        23\n",
      "          18       1.00      1.00      1.00        23\n",
      "          19       1.00      1.00      1.00        23\n",
      "          20       0.85      0.89      0.87        19\n",
      "          21       1.00      1.00      1.00        19\n",
      "\n",
      "    accuracy                           0.98       440\n",
      "   macro avg       0.98      0.98      0.98       440\n",
      "weighted avg       0.98      0.98      0.98       440\n",
      "\n"
     ]
    }
   ],
   "source": [
    "# Decision Tree\n",
    "dt = DecisionTreeClassifier()\n",
    "\n",
    "dt.fit(X_train, y_train)\n",
    "\n",
    "y_pred = dt.predict(X_test)\n",
    "\n",
    "# Calculate accuracy\n",
    "dt_accuracy = accuracy_score(y_test, y_pred)\n",
    "print(f'Accuracy: {dt_accuracy:.2f}')\n",
    "\n",
    "# Classification report\n",
    "print('Classification Report:')\n",
    "print(classification_report(y_test, y_pred))"
   ]
  },
  {
   "cell_type": "markdown",
   "id": "b7e88356",
   "metadata": {
    "papermill": {
     "duration": 0.015411,
     "end_time": "2024-05-15T18:45:04.313713",
     "exception": false,
     "start_time": "2024-05-15T18:45:04.298302",
     "status": "completed"
    },
    "tags": []
   },
   "source": [
    "#### Gaussian Naive Bayes"
   ]
  },
  {
   "cell_type": "code",
   "execution_count": 15,
   "id": "cbf702e3",
   "metadata": {
    "execution": {
     "iopub.execute_input": "2024-05-15T18:45:04.344687Z",
     "iopub.status.busy": "2024-05-15T18:45:04.343716Z",
     "iopub.status.idle": "2024-05-15T18:45:04.370375Z",
     "shell.execute_reply": "2024-05-15T18:45:04.369054Z"
    },
    "papermill": {
     "duration": 0.045667,
     "end_time": "2024-05-15T18:45:04.373799",
     "exception": false,
     "start_time": "2024-05-15T18:45:04.328132",
     "status": "completed"
    },
    "tags": []
   },
   "outputs": [
    {
     "name": "stdout",
     "output_type": "stream",
     "text": [
      "Accuracy: 1.00\n",
      "Classification Report:\n",
      "              precision    recall  f1-score   support\n",
      "\n",
      "           0       1.00      1.00      1.00        23\n",
      "           1       1.00      1.00      1.00        21\n",
      "           2       1.00      1.00      1.00        20\n",
      "           3       1.00      1.00      1.00        26\n",
      "           4       1.00      1.00      1.00        27\n",
      "           5       1.00      1.00      1.00        17\n",
      "           6       1.00      1.00      1.00        17\n",
      "           7       1.00      1.00      1.00        14\n",
      "           8       0.92      1.00      0.96        23\n",
      "           9       1.00      1.00      1.00        20\n",
      "          10       1.00      1.00      1.00        11\n",
      "          11       1.00      1.00      1.00        21\n",
      "          12       1.00      1.00      1.00        19\n",
      "          13       1.00      1.00      1.00        24\n",
      "          14       1.00      1.00      1.00        19\n",
      "          15       1.00      1.00      1.00        17\n",
      "          16       1.00      1.00      1.00        14\n",
      "          17       1.00      1.00      1.00        23\n",
      "          18       1.00      1.00      1.00        23\n",
      "          19       1.00      1.00      1.00        23\n",
      "          20       1.00      0.89      0.94        19\n",
      "          21       1.00      1.00      1.00        19\n",
      "\n",
      "    accuracy                           1.00       440\n",
      "   macro avg       1.00      1.00      1.00       440\n",
      "weighted avg       1.00      1.00      1.00       440\n",
      "\n"
     ]
    }
   ],
   "source": [
    "gaussian_nb = GaussianNB()\n",
    "\n",
    "gaussian_nb.fit(X_train, y_train)\n",
    "\n",
    "y_pred = gaussian_nb.predict(X_test)\n",
    "\n",
    "# Calculate accuracy\n",
    "gNB_accuracy = accuracy_score(y_test, y_pred)\n",
    "print(f'Accuracy: {gNB_accuracy:.2f}')\n",
    "\n",
    "# Classification report\n",
    "print('Classification Report:')\n",
    "print(classification_report(y_test, y_pred))"
   ]
  },
  {
   "cell_type": "markdown",
   "id": "41f1cff5",
   "metadata": {
    "papermill": {
     "duration": 0.014143,
     "end_time": "2024-05-15T18:45:04.402501",
     "exception": false,
     "start_time": "2024-05-15T18:45:04.388358",
     "status": "completed"
    },
    "tags": []
   },
   "source": [
    "#### Bernoulli Naive Bayes"
   ]
  },
  {
   "cell_type": "code",
   "execution_count": 16,
   "id": "ff934651",
   "metadata": {
    "execution": {
     "iopub.execute_input": "2024-05-15T18:45:04.433736Z",
     "iopub.status.busy": "2024-05-15T18:45:04.433267Z",
     "iopub.status.idle": "2024-05-15T18:45:04.474742Z",
     "shell.execute_reply": "2024-05-15T18:45:04.473579Z"
    },
    "papermill": {
     "duration": 0.062161,
     "end_time": "2024-05-15T18:45:04.479253",
     "exception": false,
     "start_time": "2024-05-15T18:45:04.417092",
     "status": "completed"
    },
    "tags": []
   },
   "outputs": [
    {
     "name": "stdout",
     "output_type": "stream",
     "text": [
      "Accuracy: 0.75\n",
      "Classification Report:\n",
      "              precision    recall  f1-score   support\n",
      "\n",
      "           0       1.00      0.87      0.93        23\n",
      "           1       0.95      0.86      0.90        21\n",
      "           2       0.67      0.90      0.77        20\n",
      "           3       1.00      1.00      1.00        26\n",
      "           4       0.96      0.85      0.90        27\n",
      "           5       0.85      1.00      0.92        17\n",
      "           6       0.70      0.94      0.80        17\n",
      "           7       0.88      1.00      0.93        14\n",
      "           8       0.44      0.52      0.48        23\n",
      "           9       0.71      1.00      0.83        20\n",
      "          10       0.46      0.55      0.50        11\n",
      "          11       1.00      0.67      0.80        21\n",
      "          12       0.60      0.79      0.68        19\n",
      "          13       0.67      0.33      0.44        24\n",
      "          14       0.95      1.00      0.97        19\n",
      "          15       0.55      1.00      0.71        17\n",
      "          16       0.48      0.79      0.59        14\n",
      "          17       0.80      0.87      0.83        23\n",
      "          18       1.00      0.52      0.69        23\n",
      "          19       0.71      0.52      0.60        23\n",
      "          20       0.36      0.21      0.27        19\n",
      "          21       1.00      0.37      0.54        19\n",
      "\n",
      "    accuracy                           0.75       440\n",
      "   macro avg       0.76      0.75      0.73       440\n",
      "weighted avg       0.78      0.75      0.74       440\n",
      "\n"
     ]
    }
   ],
   "source": [
    "bernoulli_nb = BernoulliNB()\n",
    "\n",
    "bernoulli_nb.fit(X_train, y_train)\n",
    "\n",
    "y_pred = bernoulli_nb.predict(X_test)\n",
    "\n",
    "# Calculate accuracy\n",
    "bNB_accuracy = accuracy_score(y_test, y_pred)\n",
    "print(f'Accuracy: {bNB_accuracy:.2f}')\n",
    "\n",
    "# Classification report\n",
    "print('Classification Report:')\n",
    "print(classification_report(y_test, y_pred))"
   ]
  },
  {
   "cell_type": "markdown",
   "id": "ab7753b3",
   "metadata": {
    "papermill": {
     "duration": 0.030386,
     "end_time": "2024-05-15T18:45:04.541667",
     "exception": false,
     "start_time": "2024-05-15T18:45:04.511281",
     "status": "completed"
    },
    "tags": []
   },
   "source": [
    "#### Support Vector Machine"
   ]
  },
  {
   "cell_type": "code",
   "execution_count": 17,
   "id": "1caf3d1c",
   "metadata": {
    "execution": {
     "iopub.execute_input": "2024-05-15T18:45:04.585222Z",
     "iopub.status.busy": "2024-05-15T18:45:04.584820Z",
     "iopub.status.idle": "2024-05-15T18:45:04.690400Z",
     "shell.execute_reply": "2024-05-15T18:45:04.688981Z"
    },
    "papermill": {
     "duration": 0.125066,
     "end_time": "2024-05-15T18:45:04.693736",
     "exception": false,
     "start_time": "2024-05-15T18:45:04.568670",
     "status": "completed"
    },
    "tags": []
   },
   "outputs": [
    {
     "name": "stdout",
     "output_type": "stream",
     "text": [
      "Accuracy: 0.97\n",
      "Classification Report:\n",
      "              precision    recall  f1-score   support\n",
      "\n",
      "           0       1.00      1.00      1.00        23\n",
      "           1       1.00      1.00      1.00        21\n",
      "           2       1.00      0.95      0.97        20\n",
      "           3       1.00      1.00      1.00        26\n",
      "           4       1.00      1.00      1.00        27\n",
      "           5       0.94      1.00      0.97        17\n",
      "           6       0.94      1.00      0.97        17\n",
      "           7       1.00      1.00      1.00        14\n",
      "           8       0.78      0.91      0.84        23\n",
      "           9       0.91      1.00      0.95        20\n",
      "          10       0.79      1.00      0.88        11\n",
      "          11       1.00      0.95      0.98        21\n",
      "          12       1.00      1.00      1.00        19\n",
      "          13       1.00      0.92      0.96        24\n",
      "          14       1.00      1.00      1.00        19\n",
      "          15       1.00      1.00      1.00        17\n",
      "          16       1.00      1.00      1.00        14\n",
      "          17       1.00      1.00      1.00        23\n",
      "          18       1.00      0.91      0.95        23\n",
      "          19       1.00      1.00      1.00        23\n",
      "          20       0.93      0.68      0.79        19\n",
      "          21       1.00      1.00      1.00        19\n",
      "\n",
      "    accuracy                           0.97       440\n",
      "   macro avg       0.97      0.97      0.97       440\n",
      "weighted avg       0.97      0.97      0.97       440\n",
      "\n"
     ]
    }
   ],
   "source": [
    "svm = SVC(random_state=42)\n",
    "\n",
    "svm.fit(X_train, y_train)\n",
    "\n",
    "y_pred = svm.predict(X_test)\n",
    "\n",
    "# Calculate accuracy\n",
    "svm_accuracy = accuracy_score(y_test, y_pred)\n",
    "print(f'Accuracy: {svm_accuracy:.2f}')\n",
    "\n",
    "# Classification report\n",
    "print('Classification Report:')\n",
    "print(classification_report(y_test, y_pred))"
   ]
  },
  {
   "cell_type": "markdown",
   "id": "14ba3b56",
   "metadata": {
    "papermill": {
     "duration": 0.019501,
     "end_time": "2024-05-15T18:45:04.735191",
     "exception": false,
     "start_time": "2024-05-15T18:45:04.715690",
     "status": "completed"
    },
    "tags": []
   },
   "source": [
    "#### Artificial Neural Network"
   ]
  },
  {
   "cell_type": "code",
   "execution_count": 18,
   "id": "6ae11d4c",
   "metadata": {
    "execution": {
     "iopub.execute_input": "2024-05-15T18:45:04.766641Z",
     "iopub.status.busy": "2024-05-15T18:45:04.766236Z",
     "iopub.status.idle": "2024-05-15T18:45:12.314162Z",
     "shell.execute_reply": "2024-05-15T18:45:12.312777Z"
    },
    "papermill": {
     "duration": 7.566681,
     "end_time": "2024-05-15T18:45:12.316802",
     "exception": false,
     "start_time": "2024-05-15T18:45:04.750121",
     "status": "completed"
    },
    "tags": []
   },
   "outputs": [
    {
     "name": "stdout",
     "output_type": "stream",
     "text": [
      "Epoch 1/40\n",
      "\u001b[1m50/50\u001b[0m \u001b[32m━━━━━━━━━━━━━━━━━━━━\u001b[0m\u001b[37m\u001b[0m \u001b[1m2s\u001b[0m 6ms/step - accuracy: 0.0969 - loss: 3.0294 - val_accuracy: 0.2102 - val_loss: 2.8248\n",
      "Epoch 2/40\n",
      "\u001b[1m50/50\u001b[0m \u001b[32m━━━━━━━━━━━━━━━━━━━━\u001b[0m\u001b[37m\u001b[0m \u001b[1m0s\u001b[0m 2ms/step - accuracy: 0.1838 - loss: 2.7800 - val_accuracy: 0.2614 - val_loss: 2.5174\n",
      "Epoch 3/40\n",
      "\u001b[1m50/50\u001b[0m \u001b[32m━━━━━━━━━━━━━━━━━━━━\u001b[0m\u001b[37m\u001b[0m \u001b[1m0s\u001b[0m 2ms/step - accuracy: 0.3168 - loss: 2.4581 - val_accuracy: 0.4318 - val_loss: 2.1427\n",
      "Epoch 4/40\n",
      "\u001b[1m50/50\u001b[0m \u001b[32m━━━━━━━━━━━━━━━━━━━━\u001b[0m\u001b[37m\u001b[0m \u001b[1m0s\u001b[0m 2ms/step - accuracy: 0.4572 - loss: 2.0912 - val_accuracy: 0.5284 - val_loss: 1.7404\n",
      "Epoch 5/40\n",
      "\u001b[1m50/50\u001b[0m \u001b[32m━━━━━━━━━━━━━━━━━━━━\u001b[0m\u001b[37m\u001b[0m \u001b[1m0s\u001b[0m 2ms/step - accuracy: 0.5895 - loss: 1.6885 - val_accuracy: 0.6705 - val_loss: 1.3656\n",
      "Epoch 6/40\n",
      "\u001b[1m50/50\u001b[0m \u001b[32m━━━━━━━━━━━━━━━━━━━━\u001b[0m\u001b[37m\u001b[0m \u001b[1m0s\u001b[0m 2ms/step - accuracy: 0.7163 - loss: 1.2861 - val_accuracy: 0.7386 - val_loss: 1.0624\n",
      "Epoch 7/40\n",
      "\u001b[1m50/50\u001b[0m \u001b[32m━━━━━━━━━━━━━━━━━━━━\u001b[0m\u001b[37m\u001b[0m \u001b[1m0s\u001b[0m 2ms/step - accuracy: 0.8034 - loss: 0.9970 - val_accuracy: 0.8011 - val_loss: 0.8282\n",
      "Epoch 8/40\n",
      "\u001b[1m50/50\u001b[0m \u001b[32m━━━━━━━━━━━━━━━━━━━━\u001b[0m\u001b[37m\u001b[0m \u001b[1m0s\u001b[0m 3ms/step - accuracy: 0.8663 - loss: 0.7488 - val_accuracy: 0.8636 - val_loss: 0.6633\n",
      "Epoch 9/40\n",
      "\u001b[1m50/50\u001b[0m \u001b[32m━━━━━━━━━━━━━━━━━━━━\u001b[0m\u001b[37m\u001b[0m \u001b[1m0s\u001b[0m 2ms/step - accuracy: 0.8988 - loss: 0.6078 - val_accuracy: 0.8693 - val_loss: 0.5515\n",
      "Epoch 10/40\n",
      "\u001b[1m50/50\u001b[0m \u001b[32m━━━━━━━━━━━━━━━━━━━━\u001b[0m\u001b[37m\u001b[0m \u001b[1m0s\u001b[0m 2ms/step - accuracy: 0.9103 - loss: 0.4851 - val_accuracy: 0.9034 - val_loss: 0.4685\n",
      "Epoch 11/40\n",
      "\u001b[1m50/50\u001b[0m \u001b[32m━━━━━━━━━━━━━━━━━━━━\u001b[0m\u001b[37m\u001b[0m \u001b[1m0s\u001b[0m 2ms/step - accuracy: 0.9181 - loss: 0.4168 - val_accuracy: 0.8977 - val_loss: 0.4182\n",
      "Epoch 12/40\n",
      "\u001b[1m50/50\u001b[0m \u001b[32m━━━━━━━━━━━━━━━━━━━━\u001b[0m\u001b[37m\u001b[0m \u001b[1m0s\u001b[0m 2ms/step - accuracy: 0.9199 - loss: 0.3654 - val_accuracy: 0.9091 - val_loss: 0.3840\n",
      "Epoch 13/40\n",
      "\u001b[1m50/50\u001b[0m \u001b[32m━━━━━━━━━━━━━━━━━━━━\u001b[0m\u001b[37m\u001b[0m \u001b[1m0s\u001b[0m 2ms/step - accuracy: 0.9373 - loss: 0.3176 - val_accuracy: 0.9148 - val_loss: 0.3432\n",
      "Epoch 14/40\n",
      "\u001b[1m50/50\u001b[0m \u001b[32m━━━━━━━━━━━━━━━━━━━━\u001b[0m\u001b[37m\u001b[0m \u001b[1m0s\u001b[0m 2ms/step - accuracy: 0.9288 - loss: 0.2915 - val_accuracy: 0.9205 - val_loss: 0.3044\n",
      "Epoch 15/40\n",
      "\u001b[1m50/50\u001b[0m \u001b[32m━━━━━━━━━━━━━━━━━━━━\u001b[0m\u001b[37m\u001b[0m \u001b[1m0s\u001b[0m 2ms/step - accuracy: 0.9455 - loss: 0.2585 - val_accuracy: 0.9261 - val_loss: 0.2874\n",
      "Epoch 16/40\n",
      "\u001b[1m50/50\u001b[0m \u001b[32m━━━━━━━━━━━━━━━━━━━━\u001b[0m\u001b[37m\u001b[0m \u001b[1m0s\u001b[0m 2ms/step - accuracy: 0.9541 - loss: 0.2325 - val_accuracy: 0.9318 - val_loss: 0.2667\n",
      "Epoch 17/40\n",
      "\u001b[1m50/50\u001b[0m \u001b[32m━━━━━━━━━━━━━━━━━━━━\u001b[0m\u001b[37m\u001b[0m \u001b[1m0s\u001b[0m 2ms/step - accuracy: 0.9476 - loss: 0.2155 - val_accuracy: 0.9432 - val_loss: 0.2553\n",
      "Epoch 18/40\n",
      "\u001b[1m50/50\u001b[0m \u001b[32m━━━━━━━━━━━━━━━━━━━━\u001b[0m\u001b[37m\u001b[0m \u001b[1m0s\u001b[0m 2ms/step - accuracy: 0.9561 - loss: 0.2079 - val_accuracy: 0.9375 - val_loss: 0.2449\n",
      "Epoch 19/40\n",
      "\u001b[1m50/50\u001b[0m \u001b[32m━━━━━━━━━━━━━━━━━━━━\u001b[0m\u001b[37m\u001b[0m \u001b[1m0s\u001b[0m 2ms/step - accuracy: 0.9446 - loss: 0.1831 - val_accuracy: 0.9659 - val_loss: 0.2124\n",
      "Epoch 20/40\n",
      "\u001b[1m50/50\u001b[0m \u001b[32m━━━━━━━━━━━━━━━━━━━━\u001b[0m\u001b[37m\u001b[0m \u001b[1m0s\u001b[0m 2ms/step - accuracy: 0.9574 - loss: 0.1751 - val_accuracy: 0.9545 - val_loss: 0.2053\n",
      "Epoch 21/40\n",
      "\u001b[1m50/50\u001b[0m \u001b[32m━━━━━━━━━━━━━━━━━━━━\u001b[0m\u001b[37m\u001b[0m \u001b[1m0s\u001b[0m 2ms/step - accuracy: 0.9636 - loss: 0.1623 - val_accuracy: 0.9545 - val_loss: 0.1929\n",
      "Epoch 22/40\n",
      "\u001b[1m50/50\u001b[0m \u001b[32m━━━━━━━━━━━━━━━━━━━━\u001b[0m\u001b[37m\u001b[0m \u001b[1m0s\u001b[0m 2ms/step - accuracy: 0.9629 - loss: 0.1442 - val_accuracy: 0.9659 - val_loss: 0.1781\n",
      "Epoch 23/40\n",
      "\u001b[1m50/50\u001b[0m \u001b[32m━━━━━━━━━━━━━━━━━━━━\u001b[0m\u001b[37m\u001b[0m \u001b[1m0s\u001b[0m 2ms/step - accuracy: 0.9693 - loss: 0.1305 - val_accuracy: 0.9545 - val_loss: 0.1719\n",
      "Epoch 24/40\n",
      "\u001b[1m50/50\u001b[0m \u001b[32m━━━━━━━━━━━━━━━━━━━━\u001b[0m\u001b[37m\u001b[0m \u001b[1m0s\u001b[0m 2ms/step - accuracy: 0.9752 - loss: 0.1360 - val_accuracy: 0.9716 - val_loss: 0.1646\n",
      "Epoch 25/40\n",
      "\u001b[1m50/50\u001b[0m \u001b[32m━━━━━━━━━━━━━━━━━━━━\u001b[0m\u001b[37m\u001b[0m \u001b[1m0s\u001b[0m 2ms/step - accuracy: 0.9731 - loss: 0.1249 - val_accuracy: 0.9602 - val_loss: 0.1602\n",
      "Epoch 26/40\n",
      "\u001b[1m50/50\u001b[0m \u001b[32m━━━━━━━━━━━━━━━━━━━━\u001b[0m\u001b[37m\u001b[0m \u001b[1m0s\u001b[0m 2ms/step - accuracy: 0.9649 - loss: 0.1313 - val_accuracy: 0.9716 - val_loss: 0.1452\n",
      "Epoch 27/40\n",
      "\u001b[1m50/50\u001b[0m \u001b[32m━━━━━━━━━━━━━━━━━━━━\u001b[0m\u001b[37m\u001b[0m \u001b[1m0s\u001b[0m 2ms/step - accuracy: 0.9744 - loss: 0.1153 - val_accuracy: 0.9659 - val_loss: 0.1491\n",
      "Epoch 28/40\n",
      "\u001b[1m50/50\u001b[0m \u001b[32m━━━━━━━━━━━━━━━━━━━━\u001b[0m\u001b[37m\u001b[0m \u001b[1m0s\u001b[0m 2ms/step - accuracy: 0.9757 - loss: 0.1050 - val_accuracy: 0.9716 - val_loss: 0.1429\n",
      "Epoch 29/40\n",
      "\u001b[1m50/50\u001b[0m \u001b[32m━━━━━━━━━━━━━━━━━━━━\u001b[0m\u001b[37m\u001b[0m \u001b[1m0s\u001b[0m 2ms/step - accuracy: 0.9777 - loss: 0.1058 - val_accuracy: 0.9716 - val_loss: 0.1410\n",
      "Epoch 30/40\n",
      "\u001b[1m50/50\u001b[0m \u001b[32m━━━━━━━━━━━━━━━━━━━━\u001b[0m\u001b[37m\u001b[0m \u001b[1m0s\u001b[0m 2ms/step - accuracy: 0.9812 - loss: 0.0955 - val_accuracy: 0.9773 - val_loss: 0.1316\n",
      "Epoch 31/40\n",
      "\u001b[1m50/50\u001b[0m \u001b[32m━━━━━━━━━━━━━━━━━━━━\u001b[0m\u001b[37m\u001b[0m \u001b[1m0s\u001b[0m 2ms/step - accuracy: 0.9763 - loss: 0.0935 - val_accuracy: 0.9773 - val_loss: 0.1169\n",
      "Epoch 32/40\n",
      "\u001b[1m50/50\u001b[0m \u001b[32m━━━━━━━━━━━━━━━━━━━━\u001b[0m\u001b[37m\u001b[0m \u001b[1m0s\u001b[0m 2ms/step - accuracy: 0.9749 - loss: 0.0961 - val_accuracy: 0.9830 - val_loss: 0.1283\n",
      "Epoch 33/40\n",
      "\u001b[1m50/50\u001b[0m \u001b[32m━━━━━━━━━━━━━━━━━━━━\u001b[0m\u001b[37m\u001b[0m \u001b[1m0s\u001b[0m 2ms/step - accuracy: 0.9796 - loss: 0.0855 - val_accuracy: 0.9830 - val_loss: 0.1165\n",
      "Epoch 34/40\n",
      "\u001b[1m50/50\u001b[0m \u001b[32m━━━━━━━━━━━━━━━━━━━━\u001b[0m\u001b[37m\u001b[0m \u001b[1m0s\u001b[0m 2ms/step - accuracy: 0.9784 - loss: 0.0844 - val_accuracy: 0.9886 - val_loss: 0.1085\n",
      "Epoch 35/40\n",
      "\u001b[1m50/50\u001b[0m \u001b[32m━━━━━━━━━━━━━━━━━━━━\u001b[0m\u001b[37m\u001b[0m \u001b[1m0s\u001b[0m 2ms/step - accuracy: 0.9760 - loss: 0.0847 - val_accuracy: 0.9830 - val_loss: 0.1069\n",
      "Epoch 36/40\n",
      "\u001b[1m50/50\u001b[0m \u001b[32m━━━━━━━━━━━━━━━━━━━━\u001b[0m\u001b[37m\u001b[0m \u001b[1m0s\u001b[0m 2ms/step - accuracy: 0.9819 - loss: 0.0827 - val_accuracy: 0.9659 - val_loss: 0.1116\n",
      "Epoch 37/40\n",
      "\u001b[1m50/50\u001b[0m \u001b[32m━━━━━━━━━━━━━━━━━━━━\u001b[0m\u001b[37m\u001b[0m \u001b[1m0s\u001b[0m 2ms/step - accuracy: 0.9823 - loss: 0.0695 - val_accuracy: 0.9716 - val_loss: 0.1010\n",
      "Epoch 38/40\n",
      "\u001b[1m50/50\u001b[0m \u001b[32m━━━━━━━━━━━━━━━━━━━━\u001b[0m\u001b[37m\u001b[0m \u001b[1m0s\u001b[0m 2ms/step - accuracy: 0.9847 - loss: 0.0681 - val_accuracy: 0.9830 - val_loss: 0.0983\n",
      "Epoch 39/40\n",
      "\u001b[1m50/50\u001b[0m \u001b[32m━━━━━━━━━━━━━━━━━━━━\u001b[0m\u001b[37m\u001b[0m \u001b[1m0s\u001b[0m 2ms/step - accuracy: 0.9838 - loss: 0.0685 - val_accuracy: 0.9716 - val_loss: 0.0982\n",
      "Epoch 40/40\n",
      "\u001b[1m50/50\u001b[0m \u001b[32m━━━━━━━━━━━━━━━━━━━━\u001b[0m\u001b[37m\u001b[0m \u001b[1m0s\u001b[0m 2ms/step - accuracy: 0.9835 - loss: 0.0660 - val_accuracy: 0.9716 - val_loss: 0.0921\n"
     ]
    }
   ],
   "source": [
    "X = df.iloc[:, :-1].values  \n",
    "y = df.iloc[:, -1].values \n",
    "\n",
    "label_encoder = LabelEncoder()\n",
    "y_encoded = label_encoder.fit_transform(y)\n",
    "y_categorical = to_categorical(y_encoded)\n",
    "\n",
    "X_train, X_test, y_train, y_test = train_test_split(X, y_categorical, test_size=0.2, random_state=42)\n",
    "\n",
    "scaler = StandardScaler()\n",
    "X_train = scaler.fit_transform(X_train)\n",
    "X_test = scaler.transform(X_test)\n",
    "\n",
    "num_class = y_categorical.shape[1]\n",
    "\n",
    "# Initialize the ANN\n",
    "ann = Sequential()\n",
    "ann.add(Input(shape=(X.shape[1],)))\n",
    "ann.add(Dense(units=32, activation='relu'))\n",
    "ann.add(Dense(units=16, activation='relu'))\n",
    "ann.add(Dense(units=num_class, activation='softmax'))\n",
    "\n",
    "# Compile the model\n",
    "ann.compile(loss='categorical_crossentropy', optimizer='adam', metrics=['accuracy'])\n",
    "\n",
    "# Train the ANN on the training data\n",
    "history = ann.fit(X_train, y_train, epochs=40, batch_size=32, validation_split=0.1)\n"
   ]
  },
  {
   "cell_type": "code",
   "execution_count": 19,
   "id": "42e134e2",
   "metadata": {
    "execution": {
     "iopub.execute_input": "2024-05-15T18:45:12.378328Z",
     "iopub.status.busy": "2024-05-15T18:45:12.377915Z",
     "iopub.status.idle": "2024-05-15T18:45:12.478267Z",
     "shell.execute_reply": "2024-05-15T18:45:12.476885Z"
    },
    "papermill": {
     "duration": 0.133724,
     "end_time": "2024-05-15T18:45:12.480732",
     "exception": false,
     "start_time": "2024-05-15T18:45:12.347008",
     "status": "completed"
    },
    "tags": []
   },
   "outputs": [
    {
     "name": "stdout",
     "output_type": "stream",
     "text": [
      "\u001b[1m14/14\u001b[0m \u001b[32m━━━━━━━━━━━━━━━━━━━━\u001b[0m\u001b[37m\u001b[0m \u001b[1m0s\u001b[0m 1ms/step - accuracy: 0.9517 - loss: 0.1059 \n",
      "Test accuracy: 0.9545454382896423\n"
     ]
    }
   ],
   "source": [
    "test_loss, test_accuracy = ann.evaluate(X_test, y_test)\n",
    "print(f'Test accuracy: {test_accuracy}')\n",
    "ann_accuracy = test_accuracy"
   ]
  },
  {
   "cell_type": "code",
   "execution_count": 20,
   "id": "3df9144f",
   "metadata": {
    "execution": {
     "iopub.execute_input": "2024-05-15T18:45:12.543723Z",
     "iopub.status.busy": "2024-05-15T18:45:12.543285Z",
     "iopub.status.idle": "2024-05-15T18:45:13.113396Z",
     "shell.execute_reply": "2024-05-15T18:45:13.111958Z"
    },
    "papermill": {
     "duration": 0.604585,
     "end_time": "2024-05-15T18:45:13.116298",
     "exception": false,
     "start_time": "2024-05-15T18:45:12.511713",
     "status": "completed"
    },
    "tags": []
   },
   "outputs": [
    {
     "data": {
      "image/png": "[encoded data removed]",
      "text/plain": [
       "<Figure size 1200x400 with 2 Axes>"
      ]
     },
     "metadata": {},
     "output_type": "display_data"
    }
   ],
   "source": [
    "plt.figure(figsize=(12, 4))\n",
    "plt.subplot(1, 2, 1)\n",
    "plt.plot(history.history['accuracy'])\n",
    "plt.plot(history.history['val_accuracy'])\n",
    "plt.title('Model accuracy')\n",
    "plt.ylabel('Accuracy')\n",
    "plt.xlabel('Epoch')\n",
    "plt.legend(['Train', 'Validation'], loc='upper left')\n",
    "\n",
    "plt.subplot(1, 2, 2)\n",
    "plt.plot(history.history['loss'])\n",
    "plt.plot(history.history['val_loss'])\n",
    "plt.title('Model loss')\n",
    "plt.ylabel('Loss')\n",
    "plt.xlabel('Epoch')\n",
    "plt.legend(['Train', 'Validation'], loc='upper left')\n",
    "\n",
    "plt.show()"
   ]
  },
  {
   "cell_type": "code",
   "execution_count": 21,
   "id": "e8fc29dc",
   "metadata": {
    "execution": {
     "iopub.execute_input": "2024-05-15T18:45:13.185071Z",
     "iopub.status.busy": "2024-05-15T18:45:13.182798Z",
     "iopub.status.idle": "2024-05-15T18:45:13.476162Z",
     "shell.execute_reply": "2024-05-15T18:45:13.474872Z"
    },
    "papermill": {
     "duration": 0.330816,
     "end_time": "2024-05-15T18:45:13.479172",
     "exception": false,
     "start_time": "2024-05-15T18:45:13.148356",
     "status": "completed"
    },
    "tags": []
   },
   "outputs": [
    {
     "data": {
      "image/png": "[encoded data removed]",
      "text/plain": [
       "<Figure size 1000x600 with 1 Axes>"
      ]
     },
     "metadata": {},
     "output_type": "display_data"
    }
   ],
   "source": [
    "models = ['k-NN', 'Decision Tree', 'Gaussian NB', 'Bernoulli NB', 'SVM', 'ANN']\n",
    "accuracies = [knn_accuracy, dt_accuracy, gNB_accuracy, bNB_accuracy, svm_accuracy, ann_accuracy]\n",
    "plt.figure(figsize=(10, 6))\n",
    "plt.bar(models, accuracies, color=['blue', 'green', 'red', 'purple', 'orange', 'brown'])\n",
    "plt.ylim([0, 1])\n",
    "plt.xlabel('Model')\n",
    "plt.ylabel('Accuracy')\n",
    "plt.title('Model Accuracies')\n",
    "plt.show()"
   ]
  },
  {
   "cell_type": "markdown",
   "id": "55b092f1",
   "metadata": {
    "papermill": {
     "duration": 0.03219,
     "end_time": "2024-05-15T18:45:13.544560",
     "exception": false,
     "start_time": "2024-05-15T18:45:13.512370",
     "status": "completed"
    },
    "tags": []
   },
   "source": [
    "## Conclusion"
   ]
  },
  {
   "cell_type": "markdown",
   "id": "ab03a695",
   "metadata": {
    "papermill": {
     "duration": 0.032701,
     "end_time": "2024-05-15T18:45:13.609709",
     "exception": false,
     "start_time": "2024-05-15T18:45:13.577008",
     "status": "completed"
    },
    "tags": []
   },
   "source": [
    "In this dataset, the best performing model is Gaussian Naive Bayes"
   ]
  }
 ],
 "metadata": {
  "kaggle": {
   "accelerator": "none",
   "dataSources": [
    {
     "datasetId": 4933767,
     "sourceId": 8305330,
     "sourceType": "datasetVersion"
    }
   ],
   "dockerImageVersionId": 30698,
   "isGpuEnabled": false,
   "isInternetEnabled": true,
   "language": "python",
   "sourceType": "notebook"
  },
  "kernelspec": {
   "display_name": "Python 3",
   "language": "python",
   "name": "python3"
  },
  "language_info": {
   "codemirror_mode": {
    "name": "ipython",
    "version": 3
   },
   "file_extension": ".py",
   "mimetype": "text/x-python",
   "name": "python",
   "nbconvert_exporter": "python",
   "pygments_lexer": "ipython3",
   "version": "3.10.13"
  },
  "papermill": {
   "default_parameters": {},
   "duration": 37.091917,
   "end_time": "2024-05-15T18:45:15.470258",
   "environment_variables": {},
   "exception": null,
   "input_path": "__notebook__.ipynb",
   "output_path": "__notebook__.ipynb",
   "parameters": {},
   "start_time": "2024-05-15T18:44:38.378341",
   "version": "2.5.0"
  }
 },
 "nbformat": 4,
 "nbformat_minor": 5
}
