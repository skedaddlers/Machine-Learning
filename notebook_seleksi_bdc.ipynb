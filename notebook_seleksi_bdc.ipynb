{
  "nbformat": 4,
  "nbformat_minor": 0,
  "metadata": {
    "colab": {
      "provenance": [],
      "include_colab_link": true
    },
    "kernelspec": {
      "name": "python3",
      "display_name": "Python 3"
    },
    "language_info": {
      "name": "python"
    }
  },
  "cells": [
    {
      "cell_type": "markdown",
      "metadata": {
        "id": "view-in-github",
        "colab_type": "text"
      },
      "source": [
        "<a href=\"https://colab.research.google.com/github/skedaddlers/Machine-Learning/blob/main/notebook_seleksi_bdc.ipynb\" target=\"_parent\"><img src=\"https://colab.research.google.com/assets/colab-badge.svg\" alt=\"Open In Colab\"/></a>"
      ]
    },
    {
      "cell_type": "markdown",
      "source": [
        "# Set Up"
      ],
      "metadata": {
        "id": "mKP5XjJdkR8G"
      }
    },
    {
      "cell_type": "code",
      "source": [
        "import pandas as pd"
      ],
      "metadata": {
        "id": "tTRt1oiwkbe0"
      },
      "execution_count": 12,
      "outputs": []
    },
    {
      "cell_type": "markdown",
      "source": [],
      "metadata": {
        "id": "6OS5Bs5ulBMl"
      }
    },
    {
      "cell_type": "code",
      "source": [
        "train_df = pd.read_csv(\"./data/train.csv\")\n",
        "test_df = pd.read_csv(\"./data/test.csv\")"
      ],
      "metadata": {
        "id": "11Kl6P99keMU"
      },
      "execution_count": 13,
      "outputs": []
    },
    {
      "cell_type": "code",
      "source": [
        "train_df"
      ],
      "metadata": {
        "id": "G4E_CFMDkfkS",
        "colab": {
          "base_uri": "https://localhost:8080/",
          "height": 423
        },
        "outputId": "bacf28cd-6ffc-4976-d649-c2e673d48db7"
      },
      "execution_count": 14,
      "outputs": [
        {
          "output_type": "execute_result",
          "data": {
            "text/plain": [
              "                                        reviews_content  category\n",
              "0     airplane ! is considered among many to be the ...  positive\n",
              "1     you've got to love disney . \\nno matter what t...  positive\n",
              "2      \" the tailor of panama \" is a different kind ...  positive\n",
              "3     the characters in jonathan lynn's \" the whole ...  negative\n",
              "4     vikings v . bears ? \\nno , this isn't the line...  negative\n",
              "...                                                 ...       ...\n",
              "1495  trekkies , roger nygard's energetic and hilari...  positive\n",
              "1496   \" dangerous beauty \" is a really nothing more...  positive\n",
              "1497  starring shawnee smith ; donovan leitch ; rick...  negative\n",
              "1498  man , this was one wierd movie . \\nsimilar to ...  negative\n",
              "1499  review : ghost dog : the way of the samurai ( ...  positive\n",
              "\n",
              "[1500 rows x 2 columns]"
            ],
            "text/html": [
              "\n",
              "  <div id=\"df-4c0de803-94c5-4d47-9724-e325c891d053\" class=\"colab-df-container\">\n",
              "    <div>\n",
              "<style scoped>\n",
              "    .dataframe tbody tr th:only-of-type {\n",
              "        vertical-align: middle;\n",
              "    }\n",
              "\n",
              "    .dataframe tbody tr th {\n",
              "        vertical-align: top;\n",
              "    }\n",
              "\n",
              "    .dataframe thead th {\n",
              "        text-align: right;\n",
              "    }\n",
              "</style>\n",
              "<table border=\"1\" class=\"dataframe\">\n",
              "  <thead>\n",
              "    <tr style=\"text-align: right;\">\n",
              "      <th></th>\n",
              "      <th>reviews_content</th>\n",
              "      <th>category</th>\n",
              "    </tr>\n",
              "  </thead>\n",
              "  <tbody>\n",
              "    <tr>\n",
              "      <th>0</th>\n",
              "      <td>airplane ! is considered among many to be the ...</td>\n",
              "      <td>positive</td>\n",
              "    </tr>\n",
              "    <tr>\n",
              "      <th>1</th>\n",
              "      <td>you've got to love disney . \\nno matter what t...</td>\n",
              "      <td>positive</td>\n",
              "    </tr>\n",
              "    <tr>\n",
              "      <th>2</th>\n",
              "      <td>\" the tailor of panama \" is a different kind ...</td>\n",
              "      <td>positive</td>\n",
              "    </tr>\n",
              "    <tr>\n",
              "      <th>3</th>\n",
              "      <td>the characters in jonathan lynn's \" the whole ...</td>\n",
              "      <td>negative</td>\n",
              "    </tr>\n",
              "    <tr>\n",
              "      <th>4</th>\n",
              "      <td>vikings v . bears ? \\nno , this isn't the line...</td>\n",
              "      <td>negative</td>\n",
              "    </tr>\n",
              "    <tr>\n",
              "      <th>...</th>\n",
              "      <td>...</td>\n",
              "      <td>...</td>\n",
              "    </tr>\n",
              "    <tr>\n",
              "      <th>1495</th>\n",
              "      <td>trekkies , roger nygard's energetic and hilari...</td>\n",
              "      <td>positive</td>\n",
              "    </tr>\n",
              "    <tr>\n",
              "      <th>1496</th>\n",
              "      <td>\" dangerous beauty \" is a really nothing more...</td>\n",
              "      <td>positive</td>\n",
              "    </tr>\n",
              "    <tr>\n",
              "      <th>1497</th>\n",
              "      <td>starring shawnee smith ; donovan leitch ; rick...</td>\n",
              "      <td>negative</td>\n",
              "    </tr>\n",
              "    <tr>\n",
              "      <th>1498</th>\n",
              "      <td>man , this was one wierd movie . \\nsimilar to ...</td>\n",
              "      <td>negative</td>\n",
              "    </tr>\n",
              "    <tr>\n",
              "      <th>1499</th>\n",
              "      <td>review : ghost dog : the way of the samurai ( ...</td>\n",
              "      <td>positive</td>\n",
              "    </tr>\n",
              "  </tbody>\n",
              "</table>\n",
              "<p>1500 rows × 2 columns</p>\n",
              "</div>\n",
              "    <div class=\"colab-df-buttons\">\n",
              "\n",
              "  <div class=\"colab-df-container\">\n",
              "    <button class=\"colab-df-convert\" onclick=\"convertToInteractive('df-4c0de803-94c5-4d47-9724-e325c891d053')\"\n",
              "            title=\"Convert this dataframe to an interactive table.\"\n",
              "            style=\"display:none;\">\n",
              "\n",
              "  <svg xmlns=\"http://www.w3.org/2000/svg\" height=\"24px\" viewBox=\"0 -960 960 960\">\n",
              "    <path d=\"M120-120v-720h720v720H120Zm60-500h600v-160H180v160Zm220 220h160v-160H400v160Zm0 220h160v-160H400v160ZM180-400h160v-160H180v160Zm440 0h160v-160H620v160ZM180-180h160v-160H180v160Zm440 0h160v-160H620v160Z\"/>\n",
              "  </svg>\n",
              "    </button>\n",
              "\n",
              "  <style>\n",
              "    .colab-df-container {\n",
              "      display:flex;\n",
              "      gap: 12px;\n",
              "    }\n",
              "\n",
              "    .colab-df-convert {\n",
              "      background-color: #E8F0FE;\n",
              "      border: none;\n",
              "      border-radius: 50%;\n",
              "      cursor: pointer;\n",
              "      display: none;\n",
              "      fill: #1967D2;\n",
              "      height: 32px;\n",
              "      padding: 0 0 0 0;\n",
              "      width: 32px;\n",
              "    }\n",
              "\n",
              "    .colab-df-convert:hover {\n",
              "      background-color: #E2EBFA;\n",
              "      box-shadow: 0px 1px 2px rgba(60, 64, 67, 0.3), 0px 1px 3px 1px rgba(60, 64, 67, 0.15);\n",
              "      fill: #174EA6;\n",
              "    }\n",
              "\n",
              "    .colab-df-buttons div {\n",
              "      margin-bottom: 4px;\n",
              "    }\n",
              "\n",
              "    [theme=dark] .colab-df-convert {\n",
              "      background-color: #3B4455;\n",
              "      fill: #D2E3FC;\n",
              "    }\n",
              "\n",
              "    [theme=dark] .colab-df-convert:hover {\n",
              "      background-color: #434B5C;\n",
              "      box-shadow: 0px 1px 3px 1px rgba(0, 0, 0, 0.15);\n",
              "      filter: drop-shadow(0px 1px 2px rgba(0, 0, 0, 0.3));\n",
              "      fill: #FFFFFF;\n",
              "    }\n",
              "  </style>\n",
              "\n",
              "    <script>\n",
              "      const buttonEl =\n",
              "        document.querySelector('#df-4c0de803-94c5-4d47-9724-e325c891d053 button.colab-df-convert');\n",
              "      buttonEl.style.display =\n",
              "        google.colab.kernel.accessAllowed ? 'block' : 'none';\n",
              "\n",
              "      async function convertToInteractive(key) {\n",
              "        const element = document.querySelector('#df-4c0de803-94c5-4d47-9724-e325c891d053');\n",
              "        const dataTable =\n",
              "          await google.colab.kernel.invokeFunction('convertToInteractive',\n",
              "                                                    [key], {});\n",
              "        if (!dataTable) return;\n",
              "\n",
              "        const docLinkHtml = 'Like what you see? Visit the ' +\n",
              "          '<a target=\"_blank\" href=https://colab.research.google.com/notebooks/data_table.ipynb>data table notebook</a>'\n",
              "          + ' to learn more about interactive tables.';\n",
              "        element.innerHTML = '';\n",
              "        dataTable['output_type'] = 'display_data';\n",
              "        await google.colab.output.renderOutput(dataTable, element);\n",
              "        const docLink = document.createElement('div');\n",
              "        docLink.innerHTML = docLinkHtml;\n",
              "        element.appendChild(docLink);\n",
              "      }\n",
              "    </script>\n",
              "  </div>\n",
              "\n",
              "\n",
              "<div id=\"df-d26f086e-c1c3-4b33-a685-c7cb406492bf\">\n",
              "  <button class=\"colab-df-quickchart\" onclick=\"quickchart('df-d26f086e-c1c3-4b33-a685-c7cb406492bf')\"\n",
              "            title=\"Suggest charts\"\n",
              "            style=\"display:none;\">\n",
              "\n",
              "<svg xmlns=\"http://www.w3.org/2000/svg\" height=\"24px\"viewBox=\"0 0 24 24\"\n",
              "     width=\"24px\">\n",
              "    <g>\n",
              "        <path d=\"M19 3H5c-1.1 0-2 .9-2 2v14c0 1.1.9 2 2 2h14c1.1 0 2-.9 2-2V5c0-1.1-.9-2-2-2zM9 17H7v-7h2v7zm4 0h-2V7h2v10zm4 0h-2v-4h2v4z\"/>\n",
              "    </g>\n",
              "</svg>\n",
              "  </button>\n",
              "\n",
              "<style>\n",
              "  .colab-df-quickchart {\n",
              "      --bg-color: #E8F0FE;\n",
              "      --fill-color: #1967D2;\n",
              "      --hover-bg-color: #E2EBFA;\n",
              "      --hover-fill-color: #174EA6;\n",
              "      --disabled-fill-color: #AAA;\n",
              "      --disabled-bg-color: #DDD;\n",
              "  }\n",
              "\n",
              "  [theme=dark] .colab-df-quickchart {\n",
              "      --bg-color: #3B4455;\n",
              "      --fill-color: #D2E3FC;\n",
              "      --hover-bg-color: #434B5C;\n",
              "      --hover-fill-color: #FFFFFF;\n",
              "      --disabled-bg-color: #3B4455;\n",
              "      --disabled-fill-color: #666;\n",
              "  }\n",
              "\n",
              "  .colab-df-quickchart {\n",
              "    background-color: var(--bg-color);\n",
              "    border: none;\n",
              "    border-radius: 50%;\n",
              "    cursor: pointer;\n",
              "    display: none;\n",
              "    fill: var(--fill-color);\n",
              "    height: 32px;\n",
              "    padding: 0;\n",
              "    width: 32px;\n",
              "  }\n",
              "\n",
              "  .colab-df-quickchart:hover {\n",
              "    background-color: var(--hover-bg-color);\n",
              "    box-shadow: 0 1px 2px rgba(60, 64, 67, 0.3), 0 1px 3px 1px rgba(60, 64, 67, 0.15);\n",
              "    fill: var(--button-hover-fill-color);\n",
              "  }\n",
              "\n",
              "  .colab-df-quickchart-complete:disabled,\n",
              "  .colab-df-quickchart-complete:disabled:hover {\n",
              "    background-color: var(--disabled-bg-color);\n",
              "    fill: var(--disabled-fill-color);\n",
              "    box-shadow: none;\n",
              "  }\n",
              "\n",
              "  .colab-df-spinner {\n",
              "    border: 2px solid var(--fill-color);\n",
              "    border-color: transparent;\n",
              "    border-bottom-color: var(--fill-color);\n",
              "    animation:\n",
              "      spin 1s steps(1) infinite;\n",
              "  }\n",
              "\n",
              "  @keyframes spin {\n",
              "    0% {\n",
              "      border-color: transparent;\n",
              "      border-bottom-color: var(--fill-color);\n",
              "      border-left-color: var(--fill-color);\n",
              "    }\n",
              "    20% {\n",
              "      border-color: transparent;\n",
              "      border-left-color: var(--fill-color);\n",
              "      border-top-color: var(--fill-color);\n",
              "    }\n",
              "    30% {\n",
              "      border-color: transparent;\n",
              "      border-left-color: var(--fill-color);\n",
              "      border-top-color: var(--fill-color);\n",
              "      border-right-color: var(--fill-color);\n",
              "    }\n",
              "    40% {\n",
              "      border-color: transparent;\n",
              "      border-right-color: var(--fill-color);\n",
              "      border-top-color: var(--fill-color);\n",
              "    }\n",
              "    60% {\n",
              "      border-color: transparent;\n",
              "      border-right-color: var(--fill-color);\n",
              "    }\n",
              "    80% {\n",
              "      border-color: transparent;\n",
              "      border-right-color: var(--fill-color);\n",
              "      border-bottom-color: var(--fill-color);\n",
              "    }\n",
              "    90% {\n",
              "      border-color: transparent;\n",
              "      border-bottom-color: var(--fill-color);\n",
              "    }\n",
              "  }\n",
              "</style>\n",
              "\n",
              "  <script>\n",
              "    async function quickchart(key) {\n",
              "      const quickchartButtonEl =\n",
              "        document.querySelector('#' + key + ' button');\n",
              "      quickchartButtonEl.disabled = true;  // To prevent multiple clicks.\n",
              "      quickchartButtonEl.classList.add('colab-df-spinner');\n",
              "      try {\n",
              "        const charts = await google.colab.kernel.invokeFunction(\n",
              "            'suggestCharts', [key], {});\n",
              "      } catch (error) {\n",
              "        console.error('Error during call to suggestCharts:', error);\n",
              "      }\n",
              "      quickchartButtonEl.classList.remove('colab-df-spinner');\n",
              "      quickchartButtonEl.classList.add('colab-df-quickchart-complete');\n",
              "    }\n",
              "    (() => {\n",
              "      let quickchartButtonEl =\n",
              "        document.querySelector('#df-d26f086e-c1c3-4b33-a685-c7cb406492bf button');\n",
              "      quickchartButtonEl.style.display =\n",
              "        google.colab.kernel.accessAllowed ? 'block' : 'none';\n",
              "    })();\n",
              "  </script>\n",
              "</div>\n",
              "    </div>\n",
              "  </div>\n"
            ],
            "application/vnd.google.colaboratory.intrinsic+json": {
              "type": "dataframe",
              "variable_name": "train_df",
              "summary": "{\n  \"name\": \"train_df\",\n  \"rows\": 1500,\n  \"fields\": [\n    {\n      \"column\": \"reviews_content\",\n      \"properties\": {\n        \"dtype\": \"string\",\n        \"num_unique_values\": 1500,\n        \"samples\": [\n          \"ok , let's get one thing straight right away : maximum risk is no battleship potemkin ( although it does have some russians in it ! ) , but it's not too bad , really . \\nit's the new film from ringo lam , the latest hong kong filmmaker to defect to hollywood , and stars that minor league schwartzeneggar from belgium , jean-claude van damme ( who , you will recall , also starred in john woo's maiden hollywood effort , hard target ) . \\nin lam's film , van damme plays alain moreau , a french cop ( at least his accent makes more sense here than it did in hard target ) who discovers that he was separated shortly after birth from a twin brother who was adopted by russians . \\nthese russians defected to the united states and moved into a black neighbourhood in new york ( where , i suppose , they thought they wouldn't be noticed ) . \\nthis brother , mikhail suverov ( played in his few scenes by . . . well , \\nyou know ) , becomes deeply involved in the russian mafia and the fbi ( almost the same thing , i guess ) , and is killed in france ( in the movie , things happen so fast that you don't have too much time to think about how weird this all is ) . \\nmoreau does what any good surviving twin brother would do and goes to new york to find out why mikhail was killed , and why everyone in france who knows anything about him is also being killed ( we wonder the same thing ; i still do ) . \\nin little odessa , he meets mikhail's girlfriend , alex ( natasha henstridge , last seen in species ) , who helps him solve the mystery and adds immeasurably to the mise-en-scene ( she has very nice breasts , and we get to seen them briefly in this movie ; it was rated r in the us but is pg here , so they must have seen more of her breasts than we do ) . \\nthis film lacks the gloss and high production values of such other action movies as broken arrow , the fugitive , hard target , or anything starring arnold , but that works to its benefit , i think . \\nafter all , one thing that's been missing from woo's hollywood films is that certain hong kong funkiness that we all know and love ( well , some of us do ) . \\nmovies like this shouldn't be too pretentious , and that is part of the problem with some of these other films : they try to be too \\\" big \\\" in terms of special effects and sheer spectacle . \\nmaximum risk has its share of car chases and explosions , but they don't overwhelm the movie or detract our attention from the narrative ( not too much , anyway ) . \\nthe emphasis throughout is on the characters and their interactions ( even if , at times , they don't make a hell of a lot of sense ) . \\nin fact , one of the more interesting aspects of the film is a minor character , a rather overeager new york cabbie ( frank van keeken from tv's \\\" kids in the hall \\\" ) , who begins as something of a joke but becomes an important part of the story . \\nunfortunately , by the time we have come to really get interested in him , he . . . well , \\nyou'll see . \\nthe movie also features some set pieces of the type that we have come to expect from lam and his hong kong compatriots . \\none is a fight in a russian sauna , with lots of sweaty , muscular male flesh ( this one will appeal to certain parts of the audience more than others ) , bullets in heads , and vodka . \\nanother , my personal favorite , is a fight in a meat packing house , featuring pig carcasses and a chainsaw . \\nand even the predictable car chases are more hong kong than hollywood , as they trash those quaint french cafes , vegetable carts , and , well , french people that , we all know in our hearts , deserve trashing just for being so damn quaint . \\nof course , the movie does have its share of silliness . \\nfor example , while beating the crap out of an obnoxious russian thug who obviously deserves what he's getting , alain stops long enough to look at his own reflection in the cracked mirror with which he has been whacking the guy on the head . \\nin an unnecessarily dramatic moment , he apparently is shocked at what he sees , at what he has become . \\nbut what has he become ? \\na tough cop who beats the hell out of a guy who tried to kill him ? \\ndoesn't sound too unreasonable to me , considering the genre . \\nbut let's face it , any time van damme tries to be dramatic , he looks silly . \\nso maximum risk is a little different from most other action films . \\nwhile watching it , i was surprised , and a little disappointed , in the relative lack of pyrotechnics . \\nbut watching some of these other action films is sort of like experiencing a sugar rush ; after the initial excitement , there's not much left . \\nalthough it's short on spectacle , lam's film leaves a better and more lasting impression , i think . \\ni'm more impressed by it now than i was while watching it , and to me , that's a good sign . \\ngo see maximum risk , but don't expect a typical hollywood action movie ; expect a sort of funky hong kong-hollywood action movie . \\nthe flying inkpot rating system : * wait for the tv2 broadcast . \\n * * a little creaky , but still better than staying at home with gotcha ! \\n * * * pretty good , bring a friend . \\n * * * * amazing , potent stuff . \\n * * * * * perfection . \\nsee it twice . \\ndr t . white teaches film at the english language and literature department of the national university of singapore , but we don't hold this against him . \\n\",\n          \"midway through \\\" anaconda \\\" , documentary filmmaker terri flores ( jennifer lopez ) turns to a co-worker and says \\\" i thought this movie would be my first big break . \\ninstead , it's turned into a disaster . \\\" \\ntruer words have never been spoken . \\n \\\" anaconda \\\" is a monster movie with a lousy monster . \\nit's a suspense film that is utterly predictable . \\nit's a mess the film does manage to drum up some scares , but only in the most elementary way , like a jack-in-the-box . \\nas you turn the crank , you're totally aware that the damn clown is going to pop up , but somehow it's still mildly startling when it happens . \\nthe main difference between the giant snake in \\\" anaconda \\\" and the clown in a jack-in-the-box is that the clown is more realistic . \\n \\\" anaconda \\\" boasts some of the worst special effects to appear onscreen in years . \\nanimatronic shots of the snake look as phony as any of those cringe- inducing robots you've endured at disney world . \\nbut it's the computer animated scenes that truly expand the meaning of the word lame . \\nin one shot , a character tries to flee from the monster by diving from a tree near a waterfall , but the giant snake springs out and loops around its hapless victim in mid air . \\nthe scene , if done well , would have been a jaw- dropper . \\nhere , the horribly bad digital effects look less convincing than a saturday morning cartoon . \\nwhat's really amazing is that the filmmaker's were so proud of this dreadful shot that they actually included it in the promotional trailers for the movie . \\nbut enough about the phony snakes . \\nnow it's time to talk about the lousy story . \\nheroic and very pale anthropologist eric stoltz leads a documentary film crew down a brazilian river in search of the shirishama indians , a legendary tribe that supposedly lives in the boondocks of the rain forest . \\nstoltz tells his crew \\\" pray that you didn't forget your bug spray . \\\" \\napparently the female crew members bathed in the stuff , because they spend most of the film wearing skimpy tops and short shorts with no ill effect . \\nalong the way , the group rescues a whacked-out lapsed priest ( jon voight ) who claims to know how to find the shirishama . \\nwithin minutes , they throw away all their plans and follow voight down a tributary into the land of creepiness . \\nfrom that point on , the film is a hodgepodge of scenes and shots ripped off from \\\" jaws \\\" and \\\" dead calm . \\\" \\none of the oddest structural points of the film is the handling of eric stoltz . \\nearly in the story , his character gets knocked into a coma by a river insect and spends virtually the rest of the movie unconscious . \\nso why did they hire an actor of the caliber of stoltz for what amounts to a cameo appearance ? \\nalso , why did stoltz , who generally selects his roles with great care , agree to appear in this crap ? \\nah , the mysteries of hollywood . \\nthe remaining crew members are basically just snake food waiting to happen . \\njonathan hyde is mildly diverting as a pompous englishman hired to narrate the documentary , but lopez and ice cube manage to rise above their cardboard characters . \\nlopez , who starred in \\\" selena , \\\" is an enormously appealing performer , possessing a vibrancy that makes even the most trite lines seem credible . \\nice cube has a special charisma ; an ability to look like a macho adult and a frightened boy simultaneously . \\nthere's also a special twinkle in his eyes , as if he's gently mocking his own tough-guy posturing . \\nbut the movie really centers around the outrageously hammy performance of jon voight . \\nobsessed with capturing one of the giant anacondas , voight plays the villain in thick accent , with a series of leers and hisses , spouting the kind of dialogue usually heard only in episodes of \\\" jonny quest . \\\" \\nat one point , he looms over the crew and says \\\" the anaconda is the perfect killing machine . \\nit strikes , wraps around you , holds you tighter than your true love . \\nand you get the privilege of hearing your bones break before the power of its embrace causes your veins to explode . \\n \\\" that moment is so high-camp that it almost made the film tolerable . \\nalmost . \\nfans of the horror genre may be tempted to check out \\\" anaconda . \\\" \\ndon't . \\nthere are a lots of horror films scheduled for release this summer , including another \\\" alien \\\" sequel . \\nwait for them , rent \\\" jaws \\\" in the meantime , and don't throw away your money and time on drivel like this . \\n\",\n          \"i was fortunate enough to attend an advance screening for the upcoming thriller conspiracy theory . \\nthis was , of course , a big deal for me because reviewing movies is basically just a hobby for me and i never get a chance at something like this . \\nnot only did i get to see an advance screening , i was able to see an advance screening of a * very good * movie . \\nthe very fast-paced film stars mel gibson as jerry fletcher , a fast-talking , witty , comical taxi driver in new york city . \\ngibson's performance is terrific , and his character is similar to that of martin riggs in the lethal weapon films . \\ngibson again teams up with richard donner , as he did in the lethal weapon films and maverick , and this time around , the combination works even better . \\nthe character of jerry fletcher is indeed unique . \\ntry to imagine a toned-downed version of travis bickle who , this time around , is a jittery guy with knowledge of government conspiracy cover-ups . \\nif you can imagine that , then you've basically got jerry fletcher . \\nin many ways , i was surprised by this movie . \\nto begin with , i was surprised at how good it was . \\ndon't get me wrong , it's not going to be accepting any gold trophies next spring , but it was a very enjoyable movie . \\nsecondly , i was surprised at mel gibson's performance . \\nhe provided a fantastic performance . \\nthe previews of this film led me to believe it was an all-out action flick , which after viewing , it was almost the opposite in a certain sense . \\ngibson's character has an almost uncountable number of one-liners , hilarious situations , and his character is one that the audience tends to side with throughout the film . \\nfor instance , jerry's apartment ( and especially his security ) is memorable . \\nand last , i was surprised at how good the plot is . \\nwriter brian helgeland has created a terrific story , and when watching this film , you are left to wonder if all of jerry fletcher's far-fetched ( or so they seem at first ) conspiracy theories are helgeland's own opinions . \\nmel gibson isn't the only stand-out in the film . \\njulia roberts is very good in her performance as alice sutton , the department of justice employee who can't seem to stay away from jerry fletcher , who continually visits alice in hopes that she will do something about his theories . \\nhe also seems obsessed and in love with her . \\nbut whenever he approaches her with another one of his theories , she shrugs him and his beliefs off , continually noting that one day she is going to slap a restraining order on him . \\njerry , obviously determined to continually seek out the truth , continues to research information for his next conspiracy theory , which will be printed in his newsletter ( same title as the movie ) . \\nalthough he only has five subscribers , he puts a large amount of time and effort into his work , and publishes his next edition . \\nvery soon after he does so , he is abducted and tortured by a sinister man who refers to himself as dr . jonas ( patrick stewart ) . \\nafter barely escaping alive , jerry is forced to turn to the only person he can trust : alice sutton . \\nthe remainder of the film is almost always fast-paced and full of action and suspense , with jerry's life being constantly put into jeopardy . \\nand more along the way , the audience ( and alice ) learn more and more about jerry's life . \\nmany things are explained throughout this film , both to the characters and to the audience . \\nfor instance , the meaning of the book \\\" the catcher in the rye \\\" and its ties to assassins , the reason lone gunmen have three names ( e . g . \\nlee harvey oswald and james earl ray ) , and the real truth behind the grateful dead . \\nmake sure listen closely throughout the film , as jerry is constantly throwing out interesting tidbits such as the above . \\ndefinitely , when conspiracy theory hits theaters august 8th , make sure you are standing in line to see it . \\ni am nearly positive everyone should enjoy this film , especially if you are into an action-thriller with witty dialogue and numerous suspenseful situations . \\nand even if you aren't , you should still like this film . \\n\"\n        ],\n        \"semantic_type\": \"\",\n        \"description\": \"\"\n      }\n    },\n    {\n      \"column\": \"category\",\n      \"properties\": {\n        \"dtype\": \"category\",\n        \"num_unique_values\": 2,\n        \"samples\": [\n          \"negative\",\n          \"positive\"\n        ],\n        \"semantic_type\": \"\",\n        \"description\": \"\"\n      }\n    }\n  ]\n}"
            }
          },
          "metadata": {},
          "execution_count": 14
        }
      ]
    },
    {
      "cell_type": "code",
      "source": [
        "train_df.info()"
      ],
      "metadata": {
        "colab": {
          "base_uri": "https://localhost:8080/"
        },
        "id": "obvC3AGnkm9Y",
        "outputId": "d8f6936e-239e-4e4e-a6ed-50a4884011df"
      },
      "execution_count": null,
      "outputs": [
        {
          "output_type": "stream",
          "name": "stdout",
          "text": [
            "<class 'pandas.core.frame.DataFrame'>\n",
            "RangeIndex: 1500 entries, 0 to 1499\n",
            "Data columns (total 2 columns):\n",
            " #   Column           Non-Null Count  Dtype \n",
            "---  ------           --------------  ----- \n",
            " 0   reviews_content  1500 non-null   object\n",
            " 1   category         1500 non-null   object\n",
            "dtypes: object(2)\n",
            "memory usage: 23.6+ KB\n"
          ]
        }
      ]
    },
    {
      "cell_type": "code",
      "source": [
        "train_df.nunique()"
      ],
      "metadata": {
        "colab": {
          "base_uri": "https://localhost:8080/"
        },
        "id": "W2X0PP3nknSB",
        "outputId": "3a9d20aa-6e88-402d-c9ea-9aaae28d6609"
      },
      "execution_count": 15,
      "outputs": [
        {
          "output_type": "execute_result",
          "data": {
            "text/plain": [
              "reviews_content    1500\n",
              "category              2\n",
              "dtype: int64"
            ]
          },
          "metadata": {},
          "execution_count": 15
        }
      ]
    },
    {
      "cell_type": "code",
      "source": [
        "train_df.isna().sum()"
      ],
      "metadata": {
        "colab": {
          "base_uri": "https://localhost:8080/"
        },
        "id": "L1MQSIZikoZj",
        "outputId": "34c90fcf-a4ae-439c-c9eb-69c23533aaf3"
      },
      "execution_count": 16,
      "outputs": [
        {
          "output_type": "execute_result",
          "data": {
            "text/plain": [
              "reviews_content    0\n",
              "category           0\n",
              "dtype: int64"
            ]
          },
          "metadata": {},
          "execution_count": 16
        }
      ]
    },
    {
      "cell_type": "markdown",
      "source": [
        "# Data Preprocessing"
      ],
      "metadata": {
        "id": "3gX5SMt1kpmd"
      }
    },
    {
      "cell_type": "markdown",
      "source": [
        "Splitting the text into individual words or tokens. We'll use the word_tokenize function from the NLTK library for this.\n",
        "\n",
        "Knowledge:\n",
        "NLTK (Natural Language Toolkit) adalah perpustakaan python yang menyediakan sumber daya untuk bekerja data teks. Mendukung fungsi dan algoritma tugas NLP. Termasuk klasifikasi, tokenisasi, stemming,tagging, dll."
      ],
      "metadata": {
        "id": "BlvScvpAkrFM"
      }
    },
    {
      "cell_type": "code",
      "source": [
        "import nltk\n",
        "from nltk.corpus import stopwords\n",
        "from nltk.tokenize import word_tokenize\n",
        "from nltk.stem import WordNetLemmatizer\n",
        "import string\n",
        "\n",
        "# Download NLTK resources\n",
        "nltk.download('punkt')\n",
        "nltk.download('wordnet')\n",
        "nltk.download('stopwords')"
      ],
      "metadata": {
        "colab": {
          "base_uri": "https://localhost:8080/"
        },
        "id": "h-znszjmksos",
        "outputId": "bd2a0529-1988-4e60-bde2-346029c359aa"
      },
      "execution_count": 17,
      "outputs": [
        {
          "output_type": "stream",
          "name": "stderr",
          "text": [
            "[nltk_data] Downloading package punkt to /root/nltk_data...\n",
            "[nltk_data]   Package punkt is already up-to-date!\n",
            "[nltk_data] Downloading package wordnet to /root/nltk_data...\n",
            "[nltk_data]   Package wordnet is already up-to-date!\n",
            "[nltk_data] Downloading package stopwords to /root/nltk_data...\n",
            "[nltk_data]   Package stopwords is already up-to-date!\n"
          ]
        },
        {
          "output_type": "execute_result",
          "data": {
            "text/plain": [
              "True"
            ]
          },
          "metadata": {},
          "execution_count": 17
        }
      ]
    },
    {
      "cell_type": "code",
      "source": [
        "!pip install contractions"
      ],
      "metadata": {
        "id": "7IQTzaklwNhc",
        "outputId": "9544010e-010c-4ce4-81e1-c239444918a9",
        "colab": {
          "base_uri": "https://localhost:8080/",
          "height": 304
        }
      },
      "execution_count": 18,
      "outputs": [
        {
          "output_type": "error",
          "ename": "FileNotFoundError",
          "evalue": "[Errno 2] No such file or directory: '/bin/bash'",
          "traceback": [
            "\u001b[0;31m---------------------------------------------------------------------------\u001b[0m",
            "\u001b[0;31mFileNotFoundError\u001b[0m                         Traceback (most recent call last)",
            "\u001b[0;32m<ipython-input-18-0d4dd7b5506f>\u001b[0m in \u001b[0;36m<cell line: 1>\u001b[0;34m()\u001b[0m\n\u001b[0;32m----> 1\u001b[0;31m \u001b[0mget_ipython\u001b[0m\u001b[0;34m(\u001b[0m\u001b[0;34m)\u001b[0m\u001b[0;34m.\u001b[0m\u001b[0msystem\u001b[0m\u001b[0;34m(\u001b[0m\u001b[0;34m'pip install contractions'\u001b[0m\u001b[0;34m)\u001b[0m\u001b[0;34m\u001b[0m\u001b[0;34m\u001b[0m\u001b[0m\n\u001b[0m",
            "\u001b[0;32m/usr/local/lib/python3.10/dist-packages/google/colab/_shell.py\u001b[0m in \u001b[0;36msystem\u001b[0;34m(self, *args, **kwargs)\u001b[0m\n\u001b[1;32m     97\u001b[0m       \u001b[0mkwargs\u001b[0m\u001b[0;34m.\u001b[0m\u001b[0mupdate\u001b[0m\u001b[0;34m(\u001b[0m\u001b[0;34m{\u001b[0m\u001b[0;34m'also_return_output'\u001b[0m\u001b[0;34m:\u001b[0m \u001b[0;32mTrue\u001b[0m\u001b[0;34m}\u001b[0m\u001b[0;34m)\u001b[0m\u001b[0;34m\u001b[0m\u001b[0;34m\u001b[0m\u001b[0m\n\u001b[1;32m     98\u001b[0m \u001b[0;34m\u001b[0m\u001b[0m\n\u001b[0;32m---> 99\u001b[0;31m     \u001b[0moutput\u001b[0m \u001b[0;34m=\u001b[0m \u001b[0m_system_commands\u001b[0m\u001b[0;34m.\u001b[0m\u001b[0m_system_compat\u001b[0m\u001b[0;34m(\u001b[0m\u001b[0mself\u001b[0m\u001b[0;34m,\u001b[0m \u001b[0;34m*\u001b[0m\u001b[0margs\u001b[0m\u001b[0;34m,\u001b[0m \u001b[0;34m**\u001b[0m\u001b[0mkwargs\u001b[0m\u001b[0;34m)\u001b[0m  \u001b[0;31m# pylint:disable=protected-access\u001b[0m\u001b[0;34m\u001b[0m\u001b[0;34m\u001b[0m\u001b[0m\n\u001b[0m\u001b[1;32m    100\u001b[0m \u001b[0;34m\u001b[0m\u001b[0m\n\u001b[1;32m    101\u001b[0m     \u001b[0;32mif\u001b[0m \u001b[0mpip_warn\u001b[0m\u001b[0;34m:\u001b[0m\u001b[0;34m\u001b[0m\u001b[0;34m\u001b[0m\u001b[0m\n",
            "\u001b[0;32m/usr/local/lib/python3.10/dist-packages/google/colab/_system_commands.py\u001b[0m in \u001b[0;36m_system_compat\u001b[0;34m(shell, cmd, also_return_output)\u001b[0m\n\u001b[1;32m    452\u001b[0m   \u001b[0;31m# is expected to call this function, thus adding one level of nesting to the\u001b[0m\u001b[0;34m\u001b[0m\u001b[0;34m\u001b[0m\u001b[0m\n\u001b[1;32m    453\u001b[0m   \u001b[0;31m# stack.\u001b[0m\u001b[0;34m\u001b[0m\u001b[0;34m\u001b[0m\u001b[0m\n\u001b[0;32m--> 454\u001b[0;31m   result = _run_command(\n\u001b[0m\u001b[1;32m    455\u001b[0m       \u001b[0mshell\u001b[0m\u001b[0;34m.\u001b[0m\u001b[0mvar_expand\u001b[0m\u001b[0;34m(\u001b[0m\u001b[0mcmd\u001b[0m\u001b[0;34m,\u001b[0m \u001b[0mdepth\u001b[0m\u001b[0;34m=\u001b[0m\u001b[0;36m2\u001b[0m\u001b[0;34m)\u001b[0m\u001b[0;34m,\u001b[0m \u001b[0mclear_streamed_output\u001b[0m\u001b[0;34m=\u001b[0m\u001b[0;32mFalse\u001b[0m\u001b[0;34m\u001b[0m\u001b[0;34m\u001b[0m\u001b[0m\n\u001b[1;32m    456\u001b[0m   )\n",
            "\u001b[0;32m/usr/local/lib/python3.10/dist-packages/google/colab/_system_commands.py\u001b[0m in \u001b[0;36m_run_command\u001b[0;34m(cmd, clear_streamed_output)\u001b[0m\n\u001b[1;32m    190\u001b[0m       \u001b[0;31m# TODO(b/115531839): Ensure that subprocesses are terminated upon\u001b[0m\u001b[0;34m\u001b[0m\u001b[0;34m\u001b[0m\u001b[0m\n\u001b[1;32m    191\u001b[0m       \u001b[0;31m# interrupt.\u001b[0m\u001b[0;34m\u001b[0m\u001b[0;34m\u001b[0m\u001b[0m\n\u001b[0;32m--> 192\u001b[0;31m       p = subprocess.Popen(\n\u001b[0m\u001b[1;32m    193\u001b[0m           \u001b[0mcmd\u001b[0m\u001b[0;34m,\u001b[0m\u001b[0;34m\u001b[0m\u001b[0;34m\u001b[0m\u001b[0m\n\u001b[1;32m    194\u001b[0m           \u001b[0mshell\u001b[0m\u001b[0;34m=\u001b[0m\u001b[0;32mTrue\u001b[0m\u001b[0;34m,\u001b[0m\u001b[0;34m\u001b[0m\u001b[0;34m\u001b[0m\u001b[0m\n",
            "\u001b[0;32m/usr/lib/python3.10/subprocess.py\u001b[0m in \u001b[0;36m__init__\u001b[0;34m(self, args, bufsize, executable, stdin, stdout, stderr, preexec_fn, close_fds, shell, cwd, env, universal_newlines, startupinfo, creationflags, restore_signals, start_new_session, pass_fds, user, group, extra_groups, encoding, errors, text, umask, pipesize)\u001b[0m\n\u001b[1;32m    969\u001b[0m                             encoding=encoding, errors=errors)\n\u001b[1;32m    970\u001b[0m \u001b[0;34m\u001b[0m\u001b[0m\n\u001b[0;32m--> 971\u001b[0;31m             self._execute_child(args, executable, preexec_fn, close_fds,\n\u001b[0m\u001b[1;32m    972\u001b[0m                                 \u001b[0mpass_fds\u001b[0m\u001b[0;34m,\u001b[0m \u001b[0mcwd\u001b[0m\u001b[0;34m,\u001b[0m \u001b[0menv\u001b[0m\u001b[0;34m,\u001b[0m\u001b[0;34m\u001b[0m\u001b[0;34m\u001b[0m\u001b[0m\n\u001b[1;32m    973\u001b[0m                                 \u001b[0mstartupinfo\u001b[0m\u001b[0;34m,\u001b[0m \u001b[0mcreationflags\u001b[0m\u001b[0;34m,\u001b[0m \u001b[0mshell\u001b[0m\u001b[0;34m,\u001b[0m\u001b[0;34m\u001b[0m\u001b[0;34m\u001b[0m\u001b[0m\n",
            "\u001b[0;32m/usr/lib/python3.10/subprocess.py\u001b[0m in \u001b[0;36m_execute_child\u001b[0;34m(self, args, executable, preexec_fn, close_fds, pass_fds, cwd, env, startupinfo, creationflags, shell, p2cread, p2cwrite, c2pread, c2pwrite, errread, errwrite, restore_signals, gid, gids, uid, umask, start_new_session)\u001b[0m\n\u001b[1;32m   1861\u001b[0m                     \u001b[0;32mif\u001b[0m \u001b[0merrno_num\u001b[0m \u001b[0;34m!=\u001b[0m \u001b[0;36m0\u001b[0m\u001b[0;34m:\u001b[0m\u001b[0;34m\u001b[0m\u001b[0;34m\u001b[0m\u001b[0m\n\u001b[1;32m   1862\u001b[0m                         \u001b[0merr_msg\u001b[0m \u001b[0;34m=\u001b[0m \u001b[0mos\u001b[0m\u001b[0;34m.\u001b[0m\u001b[0mstrerror\u001b[0m\u001b[0;34m(\u001b[0m\u001b[0merrno_num\u001b[0m\u001b[0;34m)\u001b[0m\u001b[0;34m\u001b[0m\u001b[0;34m\u001b[0m\u001b[0m\n\u001b[0;32m-> 1863\u001b[0;31m                     \u001b[0;32mraise\u001b[0m \u001b[0mchild_exception_type\u001b[0m\u001b[0;34m(\u001b[0m\u001b[0merrno_num\u001b[0m\u001b[0;34m,\u001b[0m \u001b[0merr_msg\u001b[0m\u001b[0;34m,\u001b[0m \u001b[0merr_filename\u001b[0m\u001b[0;34m)\u001b[0m\u001b[0;34m\u001b[0m\u001b[0;34m\u001b[0m\u001b[0m\n\u001b[0m\u001b[1;32m   1864\u001b[0m                 \u001b[0;32mraise\u001b[0m \u001b[0mchild_exception_type\u001b[0m\u001b[0;34m(\u001b[0m\u001b[0merr_msg\u001b[0m\u001b[0;34m)\u001b[0m\u001b[0;34m\u001b[0m\u001b[0;34m\u001b[0m\u001b[0m\n\u001b[1;32m   1865\u001b[0m \u001b[0;34m\u001b[0m\u001b[0m\n",
            "\u001b[0;31mFileNotFoundError\u001b[0m: [Errno 2] No such file or directory: '/bin/bash'"
          ]
        }
      ]
    },
    {
      "cell_type": "markdown",
      "source": [
        "Knowledge:\n",
        "1. Tokenisasi: teks dipecah menjadi kata kata individu (Token)\n",
        "2. Lowercasing dan penghapusan tanda baca (koma, titik, dll)\n",
        "3. Penghapusan stop words (kata-kata umum yang sering muncul dalam teks (misalnya \"the\", \"in\")\n",
        "4. Lemmatisasi: mengubah kata-kata menjadi bentuk dasar (lemma). ex: memakan -> makan\n",
        "5. Contractions: meng-expand kata-kata seperti \"don't\" menjadi \"do not\""
      ],
      "metadata": {
        "id": "ZcSY_AtSktli"
      }
    },
    {
      "cell_type": "code",
      "source": [
        "import re\n",
        "\n",
        "# Dictionary mapping contractions to their expanded forms\n",
        "contraction_mapping = {\n",
        "    \"ain't\": \"is not\",\n",
        "    \"aren't\": \"are not\",\n",
        "    \"can't\": \"cannot\",\n",
        "    \"can't've\": \"cannot have\",\n",
        "    \"could've\": \"could have\",\n",
        "    \"couldn't\": \"could not\",\n",
        "    \"didn't\": \"did not\",\n",
        "    \"doesn't\": \"does not\",\n",
        "    \"don't\": \"do not\",\n",
        "    \"hadn't\": \"had not\",\n",
        "    \"hasn't\": \"has not\",\n",
        "    \"haven't\": \"have not\",\n",
        "    \"he'd\": \"he would\",\n",
        "    \"he'll\": \"he will\",\n",
        "    \"he's\": \"he is\",\n",
        "    \"how'd\": \"how did\",\n",
        "    \"how'll\": \"how will\",\n",
        "    \"how's\": \"how is\",\n",
        "    \"I'd\": \"I would\",\n",
        "    \"I'll\": \"I will\",\n",
        "    \"I'm\": \"I am\",\n",
        "    \"I've\": \"I have\",\n",
        "    \"i'd\": \"i would\",\n",
        "    \"i'll\": \"i will\",\n",
        "    \"i'm\": \"i am\",\n",
        "    \"i've\": \"i have\",\n",
        "    \"isn't\": \"is not\",\n",
        "    \"it'd\": \"it would\",\n",
        "    \"it'll\": \"it will\",\n",
        "    \"it's\": \"it is\",\n",
        "    \"let's\": \"let us\",\n",
        "    \"ma'am\": \"madam\",\n",
        "    \"might've\": \"might have\",\n",
        "    \"mightn't\": \"might not\",\n",
        "    \"must've\": \"must have\",\n",
        "    \"mustn't\": \"must not\",\n",
        "    \"needn't\": \"need not\",\n",
        "    \"oughtn't\": \"ought not\",\n",
        "    \"shan't\": \"shall not\",\n",
        "    \"she'd\": \"she would\",\n",
        "    \"she'll\": \"she will\",\n",
        "    \"she's\": \"she is\",\n",
        "    \"should've\": \"should have\",\n",
        "    \"shouldn't\": \"should not\",\n",
        "    \"that'd\": \"that would\",\n",
        "    \"that's\": \"that is\",\n",
        "    \"there'd\": \"there had\",\n",
        "    \"there's\": \"there is\",\n",
        "    \"they'd\": \"they would\",\n",
        "    \"they'll\": \"they will\",\n",
        "    \"they're\": \"they are\",\n",
        "    \"they've\": \"they have\",\n",
        "    \"this's\": \"this is\",\n",
        "    \"those're\": \"those are\",\n",
        "    \"to've\": \"to have\",\n",
        "    \"wasn't\": \"was not\",\n",
        "    \"we'd\": \"we would\",\n",
        "    \"we'll\": \"we will\",\n",
        "    \"we're\": \"we are\",\n",
        "    \"we've\": \"we have\",\n",
        "    \"weren't\": \"were not\",\n",
        "    \"what'll\": \"what will\",\n",
        "    \"what're\": \"what are\",\n",
        "    \"what's\": \"what is\",\n",
        "    \"what've\": \"what have\",\n",
        "    \"when's\": \"when is\",\n",
        "    \"where'd\": \"where did\",\n",
        "    \"where's\": \"where is\",\n",
        "    \"where've\": \"where have\",\n",
        "    \"who'll\": \"who will\",\n",
        "    \"who's\": \"who is\",\n",
        "    \"who've\": \"who have\",\n",
        "    \"why's\": \"why is\",\n",
        "    \"won't\": \"will not\",\n",
        "    \"would've\": \"would have\",\n",
        "    \"wouldn't\": \"would not\",\n",
        "    \"you'd\": \"you would\",\n",
        "    \"you'll\": \"you will\",\n",
        "    \"you're\": \"you are\",\n",
        "    \"you've\": \"you have\"\n",
        "}\n",
        "\n",
        "def expand_contractions(text, contraction_mapping):\n",
        "    # Regular expression pattern to find contractions\n",
        "    contractions_pattern = re.compile('({})'.format('|'.join(contraction_mapping.keys())),\n",
        "                                      flags=re.IGNORECASE|re.DOTALL)\n",
        "\n",
        "    def expand_match(contraction):\n",
        "        match = contraction.group(0)\n",
        "        expanded_contraction = contraction_mapping.get(match) if contraction_mapping.get(match) else contraction_mapping.get(match.lower())\n",
        "        return expanded_contraction\n",
        "\n",
        "    # Replace contractions with their expanded forms\n",
        "    expanded_text = contractions_pattern.sub(expand_match, text)\n",
        "    return expanded_text\n"
      ],
      "metadata": {
        "id": "X3idVzm0OIkj"
      },
      "execution_count": null,
      "outputs": []
    },
    {
      "cell_type": "code",
      "source": [
        "!pip install contractions\n"
      ],
      "metadata": {
        "colab": {
          "base_uri": "https://localhost:8080/",
          "height": 356
        },
        "id": "PLni9bc0PTJh",
        "outputId": "1bf62fa9-5263-43b5-e481-a518328d0c01"
      },
      "execution_count": null,
      "outputs": [
        {
          "output_type": "error",
          "ename": "FileNotFoundError",
          "evalue": "[Errno 2] No such file or directory: '/bin/bash'",
          "traceback": [
            "\u001b[0;31m---------------------------------------------------------------------------\u001b[0m",
            "\u001b[0;31mFileNotFoundError\u001b[0m                         Traceback (most recent call last)",
            "\u001b[0;32m<ipython-input-32-0d4dd7b5506f>\u001b[0m in \u001b[0;36m<cell line: 1>\u001b[0;34m()\u001b[0m\n\u001b[0;32m----> 1\u001b[0;31m \u001b[0mget_ipython\u001b[0m\u001b[0;34m(\u001b[0m\u001b[0;34m)\u001b[0m\u001b[0;34m.\u001b[0m\u001b[0msystem\u001b[0m\u001b[0;34m(\u001b[0m\u001b[0;34m'pip install contractions'\u001b[0m\u001b[0;34m)\u001b[0m\u001b[0;34m\u001b[0m\u001b[0;34m\u001b[0m\u001b[0m\n\u001b[0m",
            "\u001b[0;32m/usr/local/lib/python3.10/dist-packages/google/colab/_shell.py\u001b[0m in \u001b[0;36msystem\u001b[0;34m(self, *args, **kwargs)\u001b[0m\n\u001b[1;32m     97\u001b[0m       \u001b[0mkwargs\u001b[0m\u001b[0;34m.\u001b[0m\u001b[0mupdate\u001b[0m\u001b[0;34m(\u001b[0m\u001b[0;34m{\u001b[0m\u001b[0;34m'also_return_output'\u001b[0m\u001b[0;34m:\u001b[0m \u001b[0;32mTrue\u001b[0m\u001b[0;34m}\u001b[0m\u001b[0;34m)\u001b[0m\u001b[0;34m\u001b[0m\u001b[0;34m\u001b[0m\u001b[0m\n\u001b[1;32m     98\u001b[0m \u001b[0;34m\u001b[0m\u001b[0m\n\u001b[0;32m---> 99\u001b[0;31m     \u001b[0moutput\u001b[0m \u001b[0;34m=\u001b[0m \u001b[0m_system_commands\u001b[0m\u001b[0;34m.\u001b[0m\u001b[0m_system_compat\u001b[0m\u001b[0;34m(\u001b[0m\u001b[0mself\u001b[0m\u001b[0;34m,\u001b[0m \u001b[0;34m*\u001b[0m\u001b[0margs\u001b[0m\u001b[0;34m,\u001b[0m \u001b[0;34m**\u001b[0m\u001b[0mkwargs\u001b[0m\u001b[0;34m)\u001b[0m  \u001b[0;31m# pylint:disable=protected-access\u001b[0m\u001b[0;34m\u001b[0m\u001b[0;34m\u001b[0m\u001b[0m\n\u001b[0m\u001b[1;32m    100\u001b[0m \u001b[0;34m\u001b[0m\u001b[0m\n\u001b[1;32m    101\u001b[0m     \u001b[0;32mif\u001b[0m \u001b[0mpip_warn\u001b[0m\u001b[0;34m:\u001b[0m\u001b[0;34m\u001b[0m\u001b[0;34m\u001b[0m\u001b[0m\n",
            "\u001b[0;32m/usr/local/lib/python3.10/dist-packages/google/colab/_system_commands.py\u001b[0m in \u001b[0;36m_system_compat\u001b[0;34m(shell, cmd, also_return_output)\u001b[0m\n\u001b[1;32m    452\u001b[0m   \u001b[0;31m# is expected to call this function, thus adding one level of nesting to the\u001b[0m\u001b[0;34m\u001b[0m\u001b[0;34m\u001b[0m\u001b[0m\n\u001b[1;32m    453\u001b[0m   \u001b[0;31m# stack.\u001b[0m\u001b[0;34m\u001b[0m\u001b[0;34m\u001b[0m\u001b[0m\n\u001b[0;32m--> 454\u001b[0;31m   result = _run_command(\n\u001b[0m\u001b[1;32m    455\u001b[0m       \u001b[0mshell\u001b[0m\u001b[0;34m.\u001b[0m\u001b[0mvar_expand\u001b[0m\u001b[0;34m(\u001b[0m\u001b[0mcmd\u001b[0m\u001b[0;34m,\u001b[0m \u001b[0mdepth\u001b[0m\u001b[0;34m=\u001b[0m\u001b[0;36m2\u001b[0m\u001b[0;34m)\u001b[0m\u001b[0;34m,\u001b[0m \u001b[0mclear_streamed_output\u001b[0m\u001b[0;34m=\u001b[0m\u001b[0;32mFalse\u001b[0m\u001b[0;34m\u001b[0m\u001b[0;34m\u001b[0m\u001b[0m\n\u001b[1;32m    456\u001b[0m   )\n",
            "\u001b[0;32m/usr/local/lib/python3.10/dist-packages/google/colab/_system_commands.py\u001b[0m in \u001b[0;36m_run_command\u001b[0;34m(cmd, clear_streamed_output)\u001b[0m\n\u001b[1;32m    190\u001b[0m       \u001b[0;31m# TODO(b/115531839): Ensure that subprocesses are terminated upon\u001b[0m\u001b[0;34m\u001b[0m\u001b[0;34m\u001b[0m\u001b[0m\n\u001b[1;32m    191\u001b[0m       \u001b[0;31m# interrupt.\u001b[0m\u001b[0;34m\u001b[0m\u001b[0;34m\u001b[0m\u001b[0m\n\u001b[0;32m--> 192\u001b[0;31m       p = subprocess.Popen(\n\u001b[0m\u001b[1;32m    193\u001b[0m           \u001b[0mcmd\u001b[0m\u001b[0;34m,\u001b[0m\u001b[0;34m\u001b[0m\u001b[0;34m\u001b[0m\u001b[0m\n\u001b[1;32m    194\u001b[0m           \u001b[0mshell\u001b[0m\u001b[0;34m=\u001b[0m\u001b[0;32mTrue\u001b[0m\u001b[0;34m,\u001b[0m\u001b[0;34m\u001b[0m\u001b[0;34m\u001b[0m\u001b[0m\n",
            "\u001b[0;32m/usr/lib/python3.10/subprocess.py\u001b[0m in \u001b[0;36m__init__\u001b[0;34m(self, args, bufsize, executable, stdin, stdout, stderr, preexec_fn, close_fds, shell, cwd, env, universal_newlines, startupinfo, creationflags, restore_signals, start_new_session, pass_fds, user, group, extra_groups, encoding, errors, text, umask, pipesize)\u001b[0m\n\u001b[1;32m    969\u001b[0m                             encoding=encoding, errors=errors)\n\u001b[1;32m    970\u001b[0m \u001b[0;34m\u001b[0m\u001b[0m\n\u001b[0;32m--> 971\u001b[0;31m             self._execute_child(args, executable, preexec_fn, close_fds,\n\u001b[0m\u001b[1;32m    972\u001b[0m                                 \u001b[0mpass_fds\u001b[0m\u001b[0;34m,\u001b[0m \u001b[0mcwd\u001b[0m\u001b[0;34m,\u001b[0m \u001b[0menv\u001b[0m\u001b[0;34m,\u001b[0m\u001b[0;34m\u001b[0m\u001b[0;34m\u001b[0m\u001b[0m\n\u001b[1;32m    973\u001b[0m                                 \u001b[0mstartupinfo\u001b[0m\u001b[0;34m,\u001b[0m \u001b[0mcreationflags\u001b[0m\u001b[0;34m,\u001b[0m \u001b[0mshell\u001b[0m\u001b[0;34m,\u001b[0m\u001b[0;34m\u001b[0m\u001b[0;34m\u001b[0m\u001b[0m\n",
            "\u001b[0;32m/usr/lib/python3.10/subprocess.py\u001b[0m in \u001b[0;36m_execute_child\u001b[0;34m(self, args, executable, preexec_fn, close_fds, pass_fds, cwd, env, startupinfo, creationflags, shell, p2cread, p2cwrite, c2pread, c2pwrite, errread, errwrite, restore_signals, gid, gids, uid, umask, start_new_session)\u001b[0m\n\u001b[1;32m   1861\u001b[0m                     \u001b[0;32mif\u001b[0m \u001b[0merrno_num\u001b[0m \u001b[0;34m!=\u001b[0m \u001b[0;36m0\u001b[0m\u001b[0;34m:\u001b[0m\u001b[0;34m\u001b[0m\u001b[0;34m\u001b[0m\u001b[0m\n\u001b[1;32m   1862\u001b[0m                         \u001b[0merr_msg\u001b[0m \u001b[0;34m=\u001b[0m \u001b[0mos\u001b[0m\u001b[0;34m.\u001b[0m\u001b[0mstrerror\u001b[0m\u001b[0;34m(\u001b[0m\u001b[0merrno_num\u001b[0m\u001b[0;34m)\u001b[0m\u001b[0;34m\u001b[0m\u001b[0;34m\u001b[0m\u001b[0m\n\u001b[0;32m-> 1863\u001b[0;31m                     \u001b[0;32mraise\u001b[0m \u001b[0mchild_exception_type\u001b[0m\u001b[0;34m(\u001b[0m\u001b[0merrno_num\u001b[0m\u001b[0;34m,\u001b[0m \u001b[0merr_msg\u001b[0m\u001b[0;34m,\u001b[0m \u001b[0merr_filename\u001b[0m\u001b[0;34m)\u001b[0m\u001b[0;34m\u001b[0m\u001b[0;34m\u001b[0m\u001b[0m\n\u001b[0m\u001b[1;32m   1864\u001b[0m                 \u001b[0;32mraise\u001b[0m \u001b[0mchild_exception_type\u001b[0m\u001b[0;34m(\u001b[0m\u001b[0merr_msg\u001b[0m\u001b[0;34m)\u001b[0m\u001b[0;34m\u001b[0m\u001b[0;34m\u001b[0m\u001b[0m\n\u001b[1;32m   1865\u001b[0m \u001b[0;34m\u001b[0m\u001b[0m\n",
            "\u001b[0;31mFileNotFoundError\u001b[0m: [Errno 2] No such file or directory: '/bin/bash'"
          ]
        }
      ]
    },
    {
      "cell_type": "code",
      "source": [
        "# Initialize the WordNet lemmatizer\n",
        "lemmatizer = WordNetLemmatizer()\n",
        "\n",
        "# Get the set of English stopwords\n",
        "stop_words = set(stopwords.words('english'))\n",
        "\n",
        "def preprocess_text(text):\n",
        "    # # Expand contractions\n",
        "    # text = expand_contractions(text, contraction_mapping)\n",
        "\n",
        "\n",
        "\n",
        "    # Tokenization\n",
        "    tokens = word_tokenize(text)\n",
        "\n",
        "    # Lowercasing and removing punctuation\n",
        "    tokens = [token.lower() for token in tokens if token.isalnum()]\n",
        "\n",
        "    # Removing stop words\n",
        "    tokens = [token for token in tokens if token not in stop_words]\n",
        "\n",
        "    # Lemmatization\n",
        "    tokens = [lemmatizer.lemmatize(token) for token in tokens]\n",
        "\n",
        "    # Join tokens back into a string\n",
        "    preprocessed_text = ' '.join(tokens)\n",
        "\n",
        "    return preprocessed_text"
      ],
      "metadata": {
        "id": "HVl_vFSfkxdy"
      },
      "execution_count": null,
      "outputs": []
    },
    {
      "cell_type": "code",
      "source": [
        "train_df[\"reviews_content\"]"
      ],
      "metadata": {
        "colab": {
          "base_uri": "https://localhost:8080/"
        },
        "id": "IbCG_RmMlIk5",
        "outputId": "bc056639-2695-4bd3-fc2f-32205a628115"
      },
      "execution_count": null,
      "outputs": [
        {
          "output_type": "execute_result",
          "data": {
            "text/plain": [
              "0       airplane ! is considered among many to be the ...\n",
              "1       you've got to love disney . \\nno matter what t...\n",
              "2        \" the tailor of panama \" is a different kind ...\n",
              "3       the characters in jonathan lynn's \" the whole ...\n",
              "4       vikings v . bears ? \\nno , this isn't the line...\n",
              "                              ...                        \n",
              "1495    trekkies , roger nygard's energetic and hilari...\n",
              "1496     \" dangerous beauty \" is a really nothing more...\n",
              "1497    starring shawnee smith ; donovan leitch ; rick...\n",
              "1498    man , this was one wierd movie . \\nsimilar to ...\n",
              "1499    review : ghost dog : the way of the samurai ( ...\n",
              "Name: reviews_content, Length: 1500, dtype: object"
            ]
          },
          "metadata": {},
          "execution_count": 27
        }
      ]
    },
    {
      "cell_type": "code",
      "source": [
        "# Apply preprocessing to the 'reviews_content' column\n",
        "train_df['preprocessed_reviews'] = train_df['reviews_content'].apply(preprocess_text)\n",
        "\n",
        "# Display the preprocessed dataset\n",
        "print(train_df.head())"
      ],
      "metadata": {
        "colab": {
          "base_uri": "https://localhost:8080/"
        },
        "id": "cHHdGybLlEic",
        "outputId": "1860b381-0fad-4f7a-d7b9-8c6b4b911524"
      },
      "execution_count": null,
      "outputs": [
        {
          "output_type": "stream",
          "name": "stdout",
          "text": [
            "                                     reviews_content  category  \\\n",
            "0  airplane ! is considered among many to be the ...  positive   \n",
            "1  you've got to love disney . \\nno matter what t...  positive   \n",
            "2   \" the tailor of panama \" is a different kind ...  positive   \n",
            "3  the characters in jonathan lynn's \" the whole ...  negative   \n",
            "4  vikings v . bears ? \\nno , this isn't the line...  negative   \n",
            "\n",
            "                                preprocessed_reviews  \n",
            "0  airplane considered among many epitome satire ...  \n",
            "1  got love disney matter serve guaranteed succes...  \n",
            "2  tailor panama different kind spy movie despite...  \n",
            "3  character jonathan lynn whole nine yard yet an...  \n",
            "4  viking v bear lineup monday night football rat...  \n"
          ]
        }
      ]
    },
    {
      "cell_type": "code",
      "source": [
        "train_df[train_df[\"category\"]==\"positive\"]"
      ],
      "metadata": {
        "colab": {
          "base_uri": "https://localhost:8080/",
          "height": 26861
        },
        "id": "OcnIl6jGlNnv",
        "outputId": "a9811950-4847-427b-d30f-7d0e530a9bbc"
      },
      "execution_count": null,
      "outputs": [
        {
          "output_type": "execute_result",
          "data": {
            "text/plain": [
              "                                        reviews_content  category  \\\n",
              "0     airplane ! is considered among many to be the ...  positive   \n",
              "1     you've got to love disney . \\nno matter what t...  positive   \n",
              "2      \" the tailor of panama \" is a different kind ...  positive   \n",
              "5      \" very bad things , \" is the most delightfull...  positive   \n",
              "7     edward zwick's \" the siege \" raises more quest...  positive   \n",
              "...                                                 ...       ...   \n",
              "1490  after sixteen years francis ford copolla has a...  positive   \n",
              "1491  a group of high school kids mix up with a grou...  positive   \n",
              "1495  trekkies , roger nygard's energetic and hilari...  positive   \n",
              "1496   \" dangerous beauty \" is a really nothing more...  positive   \n",
              "1499  review : ghost dog : the way of the samurai ( ...  positive   \n",
              "\n",
              "                                   preprocessed_reviews  \n",
              "0     airplane considered among many epitome satire ...  \n",
              "1     got love disney matter serve guaranteed succes...  \n",
              "2     tailor panama different kind spy movie despite...  \n",
              "5     bad thing delightfully morbid film year movie ...  \n",
              "7     edward zwick siege raise question convincingly...  \n",
              "...                                                 ...  \n",
              "1490  sixteen year francis ford copolla returned fav...  \n",
              "1491  group high school kid mix group artist documen...  \n",
              "1495  trekkies roger nygard energetic hilarious docu...  \n",
              "1496  dangerous beauty really nothing grandiose soap...  \n",
              "1499  review ghost dog way samurai 1999 cast forest ...  \n",
              "\n",
              "[752 rows x 3 columns]"
            ],
            "text/html": [
              "\n",
              "  <div id=\"df-51fc1c8f-d2db-4be9-a820-3fe70cd15b15\" class=\"colab-df-container\">\n",
              "    <div>\n",
              "<style scoped>\n",
              "    .dataframe tbody tr th:only-of-type {\n",
              "        vertical-align: middle;\n",
              "    }\n",
              "\n",
              "    .dataframe tbody tr th {\n",
              "        vertical-align: top;\n",
              "    }\n",
              "\n",
              "    .dataframe thead th {\n",
              "        text-align: right;\n",
              "    }\n",
              "</style>\n",
              "<table border=\"1\" class=\"dataframe\">\n",
              "  <thead>\n",
              "    <tr style=\"text-align: right;\">\n",
              "      <th></th>\n",
              "      <th>reviews_content</th>\n",
              "      <th>category</th>\n",
              "      <th>preprocessed_reviews</th>\n",
              "    </tr>\n",
              "  </thead>\n",
              "  <tbody>\n",
              "    <tr>\n",
              "      <th>0</th>\n",
              "      <td>airplane ! is considered among many to be the ...</td>\n",
              "      <td>positive</td>\n",
              "      <td>airplane considered among many epitome satire ...</td>\n",
              "    </tr>\n",
              "    <tr>\n",
              "      <th>1</th>\n",
              "      <td>you've got to love disney . \\nno matter what t...</td>\n",
              "      <td>positive</td>\n",
              "      <td>got love disney matter serve guaranteed succes...</td>\n",
              "    </tr>\n",
              "    <tr>\n",
              "      <th>2</th>\n",
              "      <td>\" the tailor of panama \" is a different kind ...</td>\n",
              "      <td>positive</td>\n",
              "      <td>tailor panama different kind spy movie despite...</td>\n",
              "    </tr>\n",
              "    <tr>\n",
              "      <th>5</th>\n",
              "      <td>\" very bad things , \" is the most delightfull...</td>\n",
              "      <td>positive</td>\n",
              "      <td>bad thing delightfully morbid film year movie ...</td>\n",
              "    </tr>\n",
              "    <tr>\n",
              "      <th>7</th>\n",
              "      <td>edward zwick's \" the siege \" raises more quest...</td>\n",
              "      <td>positive</td>\n",
              "      <td>edward zwick siege raise question convincingly...</td>\n",
              "    </tr>\n",
              "    <tr>\n",
              "      <th>...</th>\n",
              "      <td>...</td>\n",
              "      <td>...</td>\n",
              "      <td>...</td>\n",
              "    </tr>\n",
              "    <tr>\n",
              "      <th>1490</th>\n",
              "      <td>after sixteen years francis ford copolla has a...</td>\n",
              "      <td>positive</td>\n",
              "      <td>sixteen year francis ford copolla returned fav...</td>\n",
              "    </tr>\n",
              "    <tr>\n",
              "      <th>1491</th>\n",
              "      <td>a group of high school kids mix up with a grou...</td>\n",
              "      <td>positive</td>\n",
              "      <td>group high school kid mix group artist documen...</td>\n",
              "    </tr>\n",
              "    <tr>\n",
              "      <th>1495</th>\n",
              "      <td>trekkies , roger nygard's energetic and hilari...</td>\n",
              "      <td>positive</td>\n",
              "      <td>trekkies roger nygard energetic hilarious docu...</td>\n",
              "    </tr>\n",
              "    <tr>\n",
              "      <th>1496</th>\n",
              "      <td>\" dangerous beauty \" is a really nothing more...</td>\n",
              "      <td>positive</td>\n",
              "      <td>dangerous beauty really nothing grandiose soap...</td>\n",
              "    </tr>\n",
              "    <tr>\n",
              "      <th>1499</th>\n",
              "      <td>review : ghost dog : the way of the samurai ( ...</td>\n",
              "      <td>positive</td>\n",
              "      <td>review ghost dog way samurai 1999 cast forest ...</td>\n",
              "    </tr>\n",
              "  </tbody>\n",
              "</table>\n",
              "<p>752 rows × 3 columns</p>\n",
              "</div>\n",
              "    <div class=\"colab-df-buttons\">\n",
              "\n",
              "  <div class=\"colab-df-container\">\n",
              "    <button class=\"colab-df-convert\" onclick=\"convertToInteractive('df-51fc1c8f-d2db-4be9-a820-3fe70cd15b15')\"\n",
              "            title=\"Convert this dataframe to an interactive table.\"\n",
              "            style=\"display:none;\">\n",
              "\n",
              "  <svg xmlns=\"http://www.w3.org/2000/svg\" height=\"24px\" viewBox=\"0 -960 960 960\">\n",
              "    <path d=\"M120-120v-720h720v720H120Zm60-500h600v-160H180v160Zm220 220h160v-160H400v160Zm0 220h160v-160H400v160ZM180-400h160v-160H180v160Zm440 0h160v-160H620v160ZM180-180h160v-160H180v160Zm440 0h160v-160H620v160Z\"/>\n",
              "  </svg>\n",
              "    </button>\n",
              "\n",
              "  <style>\n",
              "    .colab-df-container {\n",
              "      display:flex;\n",
              "      gap: 12px;\n",
              "    }\n",
              "\n",
              "    .colab-df-convert {\n",
              "      background-color: #E8F0FE;\n",
              "      border: none;\n",
              "      border-radius: 50%;\n",
              "      cursor: pointer;\n",
              "      display: none;\n",
              "      fill: #1967D2;\n",
              "      height: 32px;\n",
              "      padding: 0 0 0 0;\n",
              "      width: 32px;\n",
              "    }\n",
              "\n",
              "    .colab-df-convert:hover {\n",
              "      background-color: #E2EBFA;\n",
              "      box-shadow: 0px 1px 2px rgba(60, 64, 67, 0.3), 0px 1px 3px 1px rgba(60, 64, 67, 0.15);\n",
              "      fill: #174EA6;\n",
              "    }\n",
              "\n",
              "    .colab-df-buttons div {\n",
              "      margin-bottom: 4px;\n",
              "    }\n",
              "\n",
              "    [theme=dark] .colab-df-convert {\n",
              "      background-color: #3B4455;\n",
              "      fill: #D2E3FC;\n",
              "    }\n",
              "\n",
              "    [theme=dark] .colab-df-convert:hover {\n",
              "      background-color: #434B5C;\n",
              "      box-shadow: 0px 1px 3px 1px rgba(0, 0, 0, 0.15);\n",
              "      filter: drop-shadow(0px 1px 2px rgba(0, 0, 0, 0.3));\n",
              "      fill: #FFFFFF;\n",
              "    }\n",
              "  </style>\n",
              "\n",
              "    <script>\n",
              "      const buttonEl =\n",
              "        document.querySelector('#df-51fc1c8f-d2db-4be9-a820-3fe70cd15b15 button.colab-df-convert');\n",
              "      buttonEl.style.display =\n",
              "        google.colab.kernel.accessAllowed ? 'block' : 'none';\n",
              "\n",
              "      async function convertToInteractive(key) {\n",
              "        const element = document.querySelector('#df-51fc1c8f-d2db-4be9-a820-3fe70cd15b15');\n",
              "        const dataTable =\n",
              "          await google.colab.kernel.invokeFunction('convertToInteractive',\n",
              "                                                    [key], {});\n",
              "        if (!dataTable) return;\n",
              "\n",
              "        const docLinkHtml = 'Like what you see? Visit the ' +\n",
              "          '<a target=\"_blank\" href=https://colab.research.google.com/notebooks/data_table.ipynb>data table notebook</a>'\n",
              "          + ' to learn more about interactive tables.';\n",
              "        element.innerHTML = '';\n",
              "        dataTable['output_type'] = 'display_data';\n",
              "        await google.colab.output.renderOutput(dataTable, element);\n",
              "        const docLink = document.createElement('div');\n",
              "        docLink.innerHTML = docLinkHtml;\n",
              "        element.appendChild(docLink);\n",
              "      }\n",
              "    </script>\n",
              "  </div>\n",
              "\n",
              "\n",
              "<div id=\"df-af94fe81-e7c1-40c4-be75-e337cf36c102\">\n",
              "  <button class=\"colab-df-quickchart\" onclick=\"quickchart('df-af94fe81-e7c1-40c4-be75-e337cf36c102')\"\n",
              "            title=\"Suggest charts\"\n",
              "            style=\"display:none;\">\n",
              "\n",
              "<svg xmlns=\"http://www.w3.org/2000/svg\" height=\"24px\"viewBox=\"0 0 24 24\"\n",
              "     width=\"24px\">\n",
              "    <g>\n",
              "        <path d=\"M19 3H5c-1.1 0-2 .9-2 2v14c0 1.1.9 2 2 2h14c1.1 0 2-.9 2-2V5c0-1.1-.9-2-2-2zM9 17H7v-7h2v7zm4 0h-2V7h2v10zm4 0h-2v-4h2v4z\"/>\n",
              "    </g>\n",
              "</svg>\n",
              "  </button>\n",
              "\n",
              "<style>\n",
              "  .colab-df-quickchart {\n",
              "      --bg-color: #E8F0FE;\n",
              "      --fill-color: #1967D2;\n",
              "      --hover-bg-color: #E2EBFA;\n",
              "      --hover-fill-color: #174EA6;\n",
              "      --disabled-fill-color: #AAA;\n",
              "      --disabled-bg-color: #DDD;\n",
              "  }\n",
              "\n",
              "  [theme=dark] .colab-df-quickchart {\n",
              "      --bg-color: #3B4455;\n",
              "      --fill-color: #D2E3FC;\n",
              "      --hover-bg-color: #434B5C;\n",
              "      --hover-fill-color: #FFFFFF;\n",
              "      --disabled-bg-color: #3B4455;\n",
              "      --disabled-fill-color: #666;\n",
              "  }\n",
              "\n",
              "  .colab-df-quickchart {\n",
              "    background-color: var(--bg-color);\n",
              "    border: none;\n",
              "    border-radius: 50%;\n",
              "    cursor: pointer;\n",
              "    display: none;\n",
              "    fill: var(--fill-color);\n",
              "    height: 32px;\n",
              "    padding: 0;\n",
              "    width: 32px;\n",
              "  }\n",
              "\n",
              "  .colab-df-quickchart:hover {\n",
              "    background-color: var(--hover-bg-color);\n",
              "    box-shadow: 0 1px 2px rgba(60, 64, 67, 0.3), 0 1px 3px 1px rgba(60, 64, 67, 0.15);\n",
              "    fill: var(--button-hover-fill-color);\n",
              "  }\n",
              "\n",
              "  .colab-df-quickchart-complete:disabled,\n",
              "  .colab-df-quickchart-complete:disabled:hover {\n",
              "    background-color: var(--disabled-bg-color);\n",
              "    fill: var(--disabled-fill-color);\n",
              "    box-shadow: none;\n",
              "  }\n",
              "\n",
              "  .colab-df-spinner {\n",
              "    border: 2px solid var(--fill-color);\n",
              "    border-color: transparent;\n",
              "    border-bottom-color: var(--fill-color);\n",
              "    animation:\n",
              "      spin 1s steps(1) infinite;\n",
              "  }\n",
              "\n",
              "  @keyframes spin {\n",
              "    0% {\n",
              "      border-color: transparent;\n",
              "      border-bottom-color: var(--fill-color);\n",
              "      border-left-color: var(--fill-color);\n",
              "    }\n",
              "    20% {\n",
              "      border-color: transparent;\n",
              "      border-left-color: var(--fill-color);\n",
              "      border-top-color: var(--fill-color);\n",
              "    }\n",
              "    30% {\n",
              "      border-color: transparent;\n",
              "      border-left-color: var(--fill-color);\n",
              "      border-top-color: var(--fill-color);\n",
              "      border-right-color: var(--fill-color);\n",
              "    }\n",
              "    40% {\n",
              "      border-color: transparent;\n",
              "      border-right-color: var(--fill-color);\n",
              "      border-top-color: var(--fill-color);\n",
              "    }\n",
              "    60% {\n",
              "      border-color: transparent;\n",
              "      border-right-color: var(--fill-color);\n",
              "    }\n",
              "    80% {\n",
              "      border-color: transparent;\n",
              "      border-right-color: var(--fill-color);\n",
              "      border-bottom-color: var(--fill-color);\n",
              "    }\n",
              "    90% {\n",
              "      border-color: transparent;\n",
              "      border-bottom-color: var(--fill-color);\n",
              "    }\n",
              "  }\n",
              "</style>\n",
              "\n",
              "  <script>\n",
              "    async function quickchart(key) {\n",
              "      const quickchartButtonEl =\n",
              "        document.querySelector('#' + key + ' button');\n",
              "      quickchartButtonEl.disabled = true;  // To prevent multiple clicks.\n",
              "      quickchartButtonEl.classList.add('colab-df-spinner');\n",
              "      try {\n",
              "        const charts = await google.colab.kernel.invokeFunction(\n",
              "            'suggestCharts', [key], {});\n",
              "      } catch (error) {\n",
              "        console.error('Error during call to suggestCharts:', error);\n",
              "      }\n",
              "      quickchartButtonEl.classList.remove('colab-df-spinner');\n",
              "      quickchartButtonEl.classList.add('colab-df-quickchart-complete');\n",
              "    }\n",
              "    (() => {\n",
              "      let quickchartButtonEl =\n",
              "        document.querySelector('#df-af94fe81-e7c1-40c4-be75-e337cf36c102 button');\n",
              "      quickchartButtonEl.style.display =\n",
              "        google.colab.kernel.accessAllowed ? 'block' : 'none';\n",
              "    })();\n",
              "  </script>\n",
              "</div>\n",
              "    </div>\n",
              "  </div>\n"
            ],
            "application/vnd.google.colaboratory.intrinsic+json": {
              "type": "dataframe",
              "summary": "{\n  \"name\": \"train_df[train_df[\\\"category\\\"]==\\\"positive\\\"]\",\n  \"rows\": 752,\n  \"fields\": [\n    {\n      \"column\": \"reviews_content\",\n      \"properties\": {\n        \"dtype\": \"string\",\n        \"num_unique_values\": 752,\n        \"samples\": [\n          \"bob the happy bastard's quickie review : \\nrush hour \\nso what's the problem with 48 hours clones these days ? \\nthey always try for the same thing that eddie murphy and nick nolte had . \\nthat was the problem that plagued these clones , not to mention the actual sequel : another 48 hours , a complete waste of film . \\nbut , at last , someone has a different take on the matter , and it's director brett rainer . \\nrush hour features jackie chan in his first u . s . action movie , playing a chinese detective who's being flown to the us to investigate the kidnapping of the chinese consulate's daughter . \\nof course , the fbi is upset that he'll be interfering in their investigation , and stick him with an lapd office with a big mouth- of course , that's chris tucker . \\nwhat makes rush hour work so damn well is the chemistry between the energetic chan and the absolutely hilarious tucker . \\ntucker mouths off to chan at every given opportunity ( \\\" i'm michael jackson , you tito . \\\" ) , and chan delivers a few zingers of his own , as well as some terrific fight scenes . \\nthe story's pretty much your average fare , but with a decent twist involving the main villain , a highly clouded figure named jun tao . \\nat least it's entertaining , and the concept is excellently realized . \\na particular fight scene in a chinese office , where chan and tucker duke it out with the bad guys , is funny and energetic at the same time . \\nand the finale's a real treat as well . . . chan \\ndelivers yet another fantastic stunt for the fans with a 10-story drop . \\nrush hour is just the sort of film you'll get a kick out of on any night of the week . \\njust make sure you don't look for anything culturally different and you'll be fine- drunken master ii this ain't . \\n\",\n          \"synopsis : shrek ( myers ) is an ogre living in contented solitude deep in the heart of a forest , until his home is invaded by fairy tale creatures fleeing the rule of the evil lord farquaad ( john lithgow ) . \\nfarquaad agrees to relocate the pests , on the condition that shrek rescues princess fiona ( diaz ) -- whom farquaad desires to wed -- from a far-off castle . \\ngrudgingly , shrek sets out , joined in his quest by an unwanted companion , donkey ( murphy ) . \\nreview : one memorable aspect of disney's \\\" aladdin \\\" was that it finally gave robin williams a character -- the genie -- to best take advantage of his comic talents . \\n \\\" shrek \\\" does the same for eddie murphy ; ironically , though , murphy's ideal vessel turns out to be an ass . \\nall the same , \\\" shrek \\\" does represent murphy's best comic outing in years , and as donkey he steals all the best lines . \\nfor instance , after getting belted with pixie dust while trying to conceal his nature as a magical creature , donkey soars into the air and scoffs , \\\" now i'm a flying talking donkey ! \\\" \\nand despite its many contributors , the script for \\\" shrek \\\" is full of such comic gems . \\nmyers is delightful in more of a straight man role , and lithgow also gets some great moments ( watch for a hilarious repartee with the gingerbread man ) . \\n \\\" shrek \\\" takes great pleasure in lampooning fairy tales and nursery rhymes of all sorts , and reserves a few delightful knocks at disney in the bargain . \\nthings do go somewhat astray during the film's middle segment , which concentrates too much on the main characters at the expense of some of the terrific fairy tale satire which is the movie's greatest strength . \\nbut even then , one can always sit back and enjoy the beautiful computer animation , whose remarkable use here represents yet another dazzling leap forward for the technology . \\n\",\n          \"razor blade smile running as part of the vancouver international film festival played october 2nd and 4th , 1998 . \\nofficial release : halloween \\nreviewed by vince yim \\n`you think you know all about vampires . . . believe \\nme . . . you \\nknow f * ck all . ' \\nwith these words , we are brought into the world of a sultry vampire seductress by the name of lilith silver ( played by eileen daly ) . \\nmade into an immortal a century and a half ago by the sinister ethan blake , she continues to alleviate boredom with her state of being . \\nso , what's an undead girl to do , except squeeze into the tightest fitting clothes possible , get out her guns , seduce a few guys , and kill a few people for money and blood ? \\nwith that out of the way , let me say this . \\nthis film is bad . \\nthis film is really , really bad . \\nyet somehow , it is strangely enjoyable . \\nwith all the elements of a direct to video horror flick ? buxom babes , gore , cheesy dialogue , and bad acting ? any casual film viewer would be more inclined to spend their money on renting innocent blood or going to see blade . \\nstill , it is considered to be one of the finest british vampire film . \\nagreed , it might be , but is far from being the best vampire flick ever . \\nperiod . \\nrazor blade smile has some rather high production values , shown by the nice overall tone to the film . \\nthe film is also a bit of a departure from popular vampire lore , with a vampire that can go out in broad daylight without disintegrating , doesn't sleep in a coffin ( but leaves one next to her computer ) , and sees religion as the `opium of the peoples' ( hence , immunity to crosses ) . \\nbut aside from that , it doesn't stray too far away from horror film conventions . \\nthat is , unless that is intentional . \\nrazor blade smile literally goes for the throat , then pumps the wound full of processed cheese . \\nyou can't help but laugh when a female vampire gets decapitated and her severed head goes flying into a puddle . \\nyou'll laugh even harder at the hideously contrived situations ( to distract two female guards , lilith tosses a cellular phone towards them and dials the number ) . \\nyou'll laugh the hardest when a murder witness recants the tale and suddenly starts sobbing uncontrollably . \\nand then , there's the sudden twist ending ( i have enough heart not to give it away ) . \\nthe film refuses to take itself seriously , which is a good thing , as by the time lilith zips up her skin-tight body suit and then unzips it just to show the right amount of cleavage , you've most likely forgotten the main point of the story . \\nbut in case you really care , she's been assigned to kill a bunch of people who belong to the so-called illuminati , and she's leaving a huge mess behind for the police to find . \\nas much as my criticisms , this movie works best as a guilty pleasure or as a film that you watch with your friends and within groups . \\nalmost destined for cult-status , the film's campy , cheesy overtones actually work towards the film . \\nwhile this may not necessarily be the film you'd want to be seen watching by yourself , it makes for a fun time at the movies . \\n\"\n        ],\n        \"semantic_type\": \"\",\n        \"description\": \"\"\n      }\n    },\n    {\n      \"column\": \"category\",\n      \"properties\": {\n        \"dtype\": \"category\",\n        \"num_unique_values\": 1,\n        \"samples\": [\n          \"positive\"\n        ],\n        \"semantic_type\": \"\",\n        \"description\": \"\"\n      }\n    },\n    {\n      \"column\": \"preprocessed_reviews\",\n      \"properties\": {\n        \"dtype\": \"string\",\n        \"num_unique_values\": 752,\n        \"samples\": [\n          \"bob happy bastard quickie review rush hour problem 48 hour clone day always try thing eddie murphy nick nolte problem plagued clone mention actual sequel another 48 hour complete waste film last someone different take matter director brett rainer rush hour feature jackie chan first u action movie playing chinese detective flown u investigate kidnapping chinese consulate daughter course fbi upset interfering investigation stick lapd office big course chris tucker make rush hour work damn well chemistry energetic chan absolutely hilarious tucker tucker mouth chan every given opportunity michael jackson tito chan delivers zinger well terrific fight scene story pretty much average fare decent twist involving main villain highly clouded figure named jun tao least entertaining concept excellently realized particular fight scene chinese office chan tucker duke bad guy funny energetic time finale real treat well chan delivers yet another fantastic stunt fan drop rush hour sort film get kick night week make sure look anything culturally different drunken master ii ai\"\n        ],\n        \"semantic_type\": \"\",\n        \"description\": \"\"\n      }\n    }\n  ]\n}"
            }
          },
          "metadata": {},
          "execution_count": 16
        }
      ]
    },
    {
      "cell_type": "markdown",
      "source": [
        "## Feature Engineering"
      ],
      "metadata": {
        "id": "K6Gn0B40lyex"
      }
    },
    {
      "cell_type": "markdown",
      "source": [
        "Involve converting text into numerical feature\n",
        "1. Bag of Word: Aprroach that represent \"bag\" of words, ignoring grammar and word order. Can be implemented using technique Term Frequency-Inverse Document Frequency (TF-IDF) or Count Vectorizer\n",
        "2. Word Embeddings: Dense and low dimensional representations of words in vector space."
      ],
      "metadata": {
        "id": "S94nEgwSoOrG"
      }
    },
    {
      "cell_type": "markdown",
      "source": [
        "## Bag of Words (TF-IDF)"
      ],
      "metadata": {
        "id": "9X8fbU-VpyXL"
      }
    },
    {
      "cell_type": "code",
      "source": [
        "from sklearn.feature_extraction.text import TfidfVectorizer"
      ],
      "metadata": {
        "id": "K23bigshp53u"
      },
      "execution_count": null,
      "outputs": []
    },
    {
      "cell_type": "code",
      "source": [
        "# Initialize\n",
        "tfidf_vectorizer = TfidfVectorizer()\n",
        "\n",
        "# F"
      ],
      "metadata": {
        "id": "a3ot0l0CqBDk"
      },
      "execution_count": null,
      "outputs": []
    }
  ]
}