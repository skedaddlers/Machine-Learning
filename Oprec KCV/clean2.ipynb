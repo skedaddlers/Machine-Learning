{
 "cells": [
  {
   "cell_type": "code",
   "execution_count": 75,
   "metadata": {},
   "outputs": [
    {
     "data": {
      "text/html": [
       "<div>\n",
       "<style scoped>\n",
       "    .dataframe tbody tr th:only-of-type {\n",
       "        vertical-align: middle;\n",
       "    }\n",
       "\n",
       "    .dataframe tbody tr th {\n",
       "        vertical-align: top;\n",
       "    }\n",
       "\n",
       "    .dataframe thead th {\n",
       "        text-align: right;\n",
       "    }\n",
       "</style>\n",
       "<table border=\"1\" class=\"dataframe\">\n",
       "  <thead>\n",
       "    <tr style=\"text-align: right;\">\n",
       "      <th></th>\n",
       "      <th>id</th>\n",
       "      <th>job_title</th>\n",
       "      <th>location</th>\n",
       "      <th>salary_currency</th>\n",
       "      <th>career_level</th>\n",
       "      <th>experience_level</th>\n",
       "      <th>education_level</th>\n",
       "      <th>employment_type</th>\n",
       "      <th>job_function</th>\n",
       "      <th>job_benefits</th>\n",
       "      <th>company_process_time</th>\n",
       "      <th>company_size</th>\n",
       "      <th>company_industry</th>\n",
       "      <th>job_description</th>\n",
       "    </tr>\n",
       "  </thead>\n",
       "  <tbody>\n",
       "    <tr>\n",
       "      <th>0</th>\n",
       "      <td>13973</td>\n",
       "      <td>Sales Staff (Japanese Speaker)</td>\n",
       "      <td>Jakarta Raya</td>\n",
       "      <td>IDR</td>\n",
       "      <td>Lulusan baru/Pengalaman kerja kurang dari 1 tahun</td>\n",
       "      <td>NaN</td>\n",
       "      <td>SMA, SMU/SMK/STM, Sertifikat Professional, D3 ...</td>\n",
       "      <td>Penuh Waktu</td>\n",
       "      <td>Penjualan / Pemasaran,Penjualan - Korporasi</td>\n",
       "      <td>Tip;Asuransi kesehatan;Waktu regular, Senin - ...</td>\n",
       "      <td>21 days</td>\n",
       "      <td>1- 50 pekerja</td>\n",
       "      <td>Manajemen/Konsulting HR</td>\n",
       "      <td>Age maximal 23 years oldCandidate must possess...</td>\n",
       "    </tr>\n",
       "    <tr>\n",
       "      <th>1</th>\n",
       "      <td>12830</td>\n",
       "      <td>Finance Accounting supervisor</td>\n",
       "      <td>Jakarta Barat</td>\n",
       "      <td>IDR</td>\n",
       "      <td>Manajer/Asisten Manajer</td>\n",
       "      <td>3 tahun</td>\n",
       "      <td>Tidak terspesifikasi</td>\n",
       "      <td>Penuh Waktu</td>\n",
       "      <td>Akuntansi / Keuangan,Akuntansi Umum / Pembiayaan</td>\n",
       "      <td>NaN</td>\n",
       "      <td>25 days</td>\n",
       "      <td>1- 50 pekerja</td>\n",
       "      <td>Retail/Merchandise</td>\n",
       "      <td>Persyaratan:•Pendidikan Minimal S1 Jurusan Aku...</td>\n",
       "    </tr>\n",
       "    <tr>\n",
       "      <th>2</th>\n",
       "      <td>25858</td>\n",
       "      <td>Finance &amp; Accounting Manager - Logistics (A-64...</td>\n",
       "      <td>Jakarta Pusat</td>\n",
       "      <td>IDR</td>\n",
       "      <td>Manajer/Asisten Manajer</td>\n",
       "      <td>5 tahun</td>\n",
       "      <td>Sertifikat Professional, D3 (Diploma), D4 (Dip...</td>\n",
       "      <td>Penuh Waktu</td>\n",
       "      <td>Akuntansi / Keuangan,Akuntansi Umum / Pembiayaan</td>\n",
       "      <td>NaN</td>\n",
       "      <td>19 days</td>\n",
       "      <td>1- 50 pekerja</td>\n",
       "      <td>Manajemen/Konsulting HR</td>\n",
       "      <td>About The Company:The working venue is in Jaka...</td>\n",
       "    </tr>\n",
       "    <tr>\n",
       "      <th>3</th>\n",
       "      <td>24089</td>\n",
       "      <td>Sales Executive</td>\n",
       "      <td>Medan</td>\n",
       "      <td>IDR</td>\n",
       "      <td>Pegawai (non-manajemen &amp; non-supervisor)</td>\n",
       "      <td>1 tahun</td>\n",
       "      <td>SMA, SMU/SMK/STM, Sertifikat Professional, D3 ...</td>\n",
       "      <td>Penuh Waktu</td>\n",
       "      <td>Penjualan / Pemasaran,Penjualan Ritel</td>\n",
       "      <td>Asuransi kesehatan;Waktu regular, Senin - Juma...</td>\n",
       "      <td>16 days</td>\n",
       "      <td>201 - 500 pekerja</td>\n",
       "      <td>Perbankan/Pelayanan Keuangan</td>\n",
       "      <td>Tentang majoomajoo Teknologi Indonesia adalah ...</td>\n",
       "    </tr>\n",
       "    <tr>\n",
       "      <th>4</th>\n",
       "      <td>2140</td>\n",
       "      <td>Manager Restoran</td>\n",
       "      <td>Jakarta Utara</td>\n",
       "      <td>IDR</td>\n",
       "      <td>Manajer/Asisten Manajer</td>\n",
       "      <td>5 tahun</td>\n",
       "      <td>Sertifikat Professional, D3 (Diploma), D4 (Dip...</td>\n",
       "      <td>Penuh Waktu</td>\n",
       "      <td>Hotel/Restoran,Makanan/Minuman/Pelayanan Restoran</td>\n",
       "      <td>Kasual (contoh: Kaos);Ketenagakerja;Selasa-Minggu</td>\n",
       "      <td>17 days</td>\n",
       "      <td>1- 50 pekerja</td>\n",
       "      <td>Makanan &amp; Minuman/Katering/Restoran</td>\n",
       "      <td>Bisa dan mau bekerja baik di lapangan maupun b...</td>\n",
       "    </tr>\n",
       "    <tr>\n",
       "      <th>...</th>\n",
       "      <td>...</td>\n",
       "      <td>...</td>\n",
       "      <td>...</td>\n",
       "      <td>...</td>\n",
       "      <td>...</td>\n",
       "      <td>...</td>\n",
       "      <td>...</td>\n",
       "      <td>...</td>\n",
       "      <td>...</td>\n",
       "      <td>...</td>\n",
       "      <td>...</td>\n",
       "      <td>...</td>\n",
       "      <td>...</td>\n",
       "      <td>...</td>\n",
       "    </tr>\n",
       "    <tr>\n",
       "      <th>1266</th>\n",
       "      <td>4447</td>\n",
       "      <td>Compensation and Benefit Assistant Manager</td>\n",
       "      <td>Jakarta Raya</td>\n",
       "      <td>IDR</td>\n",
       "      <td>Manajer/Asisten Manajer</td>\n",
       "      <td>3 tahun</td>\n",
       "      <td>Sarjana (S1), Diploma Pascasarjana, Gelar Prof...</td>\n",
       "      <td>Penuh Waktu</td>\n",
       "      <td>Sumber Daya Manusia/Personalia,Sumber Daya Man...</td>\n",
       "      <td>NaN</td>\n",
       "      <td>NaN</td>\n",
       "      <td>NaN</td>\n",
       "      <td>NaN</td>\n",
       "      <td>Requirement :Minimal 3 years experienced as Co...</td>\n",
       "    </tr>\n",
       "    <tr>\n",
       "      <th>1267</th>\n",
       "      <td>7628</td>\n",
       "      <td>Social Media Specialist</td>\n",
       "      <td>Jakarta Selatan</td>\n",
       "      <td>IDR</td>\n",
       "      <td>Lulusan baru/Pengalaman kerja kurang dari 1 tahun</td>\n",
       "      <td>NaN</td>\n",
       "      <td>SMA, SMU/SMK/STM, Sertifikat Professional, D3 ...</td>\n",
       "      <td>Magang</td>\n",
       "      <td>Seni/Media/Komunikasi,Periklanan</td>\n",
       "      <td>NaN</td>\n",
       "      <td>NaN</td>\n",
       "      <td>NaN</td>\n",
       "      <td>Seni/Desain/Fashion</td>\n",
       "      <td>ResponsibilityDevelop, implement and manage so...</td>\n",
       "    </tr>\n",
       "    <tr>\n",
       "      <th>1268</th>\n",
       "      <td>10276</td>\n",
       "      <td>Mechanic</td>\n",
       "      <td>Papua</td>\n",
       "      <td>IDR</td>\n",
       "      <td>Pegawai (non-manajemen &amp; non-supervisor)</td>\n",
       "      <td>1 tahun</td>\n",
       "      <td>Tidak terspesifikasi</td>\n",
       "      <td>Penuh Waktu</td>\n",
       "      <td>Teknik,Mekanikal</td>\n",
       "      <td>Asuransi kesehatan;Waktu regular, Senin - Juma...</td>\n",
       "      <td>NaN</td>\n",
       "      <td>51 - 200 pekerja</td>\n",
       "      <td>Automobil/Mesin Tambahan Automotif/Kendaraan</td>\n",
       "      <td>Kualifikasinya :Pendidikan Minimal SMK Jurusan...</td>\n",
       "    </tr>\n",
       "    <tr>\n",
       "      <th>1269</th>\n",
       "      <td>6490</td>\n",
       "      <td>Quality Assurance &amp; SHE Section Head</td>\n",
       "      <td>Cikarang</td>\n",
       "      <td>IDR</td>\n",
       "      <td>Manajer/Asisten Manajer</td>\n",
       "      <td>2 tahun</td>\n",
       "      <td>Sarjana (S1)</td>\n",
       "      <td>Penuh Waktu</td>\n",
       "      <td>Teknik,Teknik Lingkungan</td>\n",
       "      <td>Tip;Bisnis (contoh: Kemeja);BPJS;Regular hours...</td>\n",
       "      <td>29 days</td>\n",
       "      <td>1001 - 2000 pekerja</td>\n",
       "      <td>Pelayanan Arsitek/Desain Interior</td>\n",
       "      <td>Job Description:Collecting data related to mat...</td>\n",
       "    </tr>\n",
       "    <tr>\n",
       "      <th>1270</th>\n",
       "      <td>18839</td>\n",
       "      <td>Graphic Designer</td>\n",
       "      <td>Medan</td>\n",
       "      <td>IDR</td>\n",
       "      <td>Pegawai (non-manajemen &amp; non-supervisor)</td>\n",
       "      <td>NaN</td>\n",
       "      <td>Sertifikat Professional, D3 (Diploma), D4 (Dip...</td>\n",
       "      <td>Penuh Waktu</td>\n",
       "      <td>Seni/Media/Komunikasi,Seni / Desain Kreatif</td>\n",
       "      <td>NaN</td>\n",
       "      <td>NaN</td>\n",
       "      <td>1- 50 pekerja</td>\n",
       "      <td>Komputer/Teknik Informatika (Perangkat Lunak)</td>\n",
       "      <td>Tugas &amp; Tanggung Jawab:Mendesain banner, flyer...</td>\n",
       "    </tr>\n",
       "  </tbody>\n",
       "</table>\n",
       "<p>1271 rows × 14 columns</p>\n",
       "</div>"
      ],
      "text/plain": [
       "         id                                          job_title  \\\n",
       "0     13973                     Sales Staff (Japanese Speaker)   \n",
       "1     12830                      Finance Accounting supervisor   \n",
       "2     25858  Finance & Accounting Manager - Logistics (A-64...   \n",
       "3     24089                                    Sales Executive   \n",
       "4      2140                                   Manager Restoran   \n",
       "...     ...                                                ...   \n",
       "1266   4447         Compensation and Benefit Assistant Manager   \n",
       "1267   7628                            Social Media Specialist   \n",
       "1268  10276                                           Mechanic   \n",
       "1269   6490               Quality Assurance & SHE Section Head   \n",
       "1270  18839                                   Graphic Designer   \n",
       "\n",
       "             location salary_currency  \\\n",
       "0        Jakarta Raya             IDR   \n",
       "1       Jakarta Barat             IDR   \n",
       "2       Jakarta Pusat             IDR   \n",
       "3               Medan             IDR   \n",
       "4       Jakarta Utara             IDR   \n",
       "...               ...             ...   \n",
       "1266     Jakarta Raya             IDR   \n",
       "1267  Jakarta Selatan             IDR   \n",
       "1268            Papua             IDR   \n",
       "1269         Cikarang             IDR   \n",
       "1270            Medan             IDR   \n",
       "\n",
       "                                           career_level experience_level  \\\n",
       "0     Lulusan baru/Pengalaman kerja kurang dari 1 tahun              NaN   \n",
       "1                               Manajer/Asisten Manajer          3 tahun   \n",
       "2                               Manajer/Asisten Manajer          5 tahun   \n",
       "3              Pegawai (non-manajemen & non-supervisor)          1 tahun   \n",
       "4                               Manajer/Asisten Manajer          5 tahun   \n",
       "...                                                 ...              ...   \n",
       "1266                            Manajer/Asisten Manajer          3 tahun   \n",
       "1267  Lulusan baru/Pengalaman kerja kurang dari 1 tahun              NaN   \n",
       "1268           Pegawai (non-manajemen & non-supervisor)          1 tahun   \n",
       "1269                            Manajer/Asisten Manajer          2 tahun   \n",
       "1270           Pegawai (non-manajemen & non-supervisor)              NaN   \n",
       "\n",
       "                                        education_level employment_type  \\\n",
       "0     SMA, SMU/SMK/STM, Sertifikat Professional, D3 ...     Penuh Waktu   \n",
       "1                                  Tidak terspesifikasi     Penuh Waktu   \n",
       "2     Sertifikat Professional, D3 (Diploma), D4 (Dip...     Penuh Waktu   \n",
       "3     SMA, SMU/SMK/STM, Sertifikat Professional, D3 ...     Penuh Waktu   \n",
       "4     Sertifikat Professional, D3 (Diploma), D4 (Dip...     Penuh Waktu   \n",
       "...                                                 ...             ...   \n",
       "1266  Sarjana (S1), Diploma Pascasarjana, Gelar Prof...     Penuh Waktu   \n",
       "1267  SMA, SMU/SMK/STM, Sertifikat Professional, D3 ...          Magang   \n",
       "1268                               Tidak terspesifikasi     Penuh Waktu   \n",
       "1269                                       Sarjana (S1)     Penuh Waktu   \n",
       "1270  Sertifikat Professional, D3 (Diploma), D4 (Dip...     Penuh Waktu   \n",
       "\n",
       "                                           job_function  \\\n",
       "0           Penjualan / Pemasaran,Penjualan - Korporasi   \n",
       "1      Akuntansi / Keuangan,Akuntansi Umum / Pembiayaan   \n",
       "2      Akuntansi / Keuangan,Akuntansi Umum / Pembiayaan   \n",
       "3                 Penjualan / Pemasaran,Penjualan Ritel   \n",
       "4     Hotel/Restoran,Makanan/Minuman/Pelayanan Restoran   \n",
       "...                                                 ...   \n",
       "1266  Sumber Daya Manusia/Personalia,Sumber Daya Man...   \n",
       "1267                   Seni/Media/Komunikasi,Periklanan   \n",
       "1268                                   Teknik,Mekanikal   \n",
       "1269                           Teknik,Teknik Lingkungan   \n",
       "1270        Seni/Media/Komunikasi,Seni / Desain Kreatif   \n",
       "\n",
       "                                           job_benefits company_process_time  \\\n",
       "0     Tip;Asuransi kesehatan;Waktu regular, Senin - ...              21 days   \n",
       "1                                                   NaN              25 days   \n",
       "2                                                   NaN              19 days   \n",
       "3     Asuransi kesehatan;Waktu regular, Senin - Juma...              16 days   \n",
       "4     Kasual (contoh: Kaos);Ketenagakerja;Selasa-Minggu              17 days   \n",
       "...                                                 ...                  ...   \n",
       "1266                                                NaN                  NaN   \n",
       "1267                                                NaN                  NaN   \n",
       "1268  Asuransi kesehatan;Waktu regular, Senin - Juma...                  NaN   \n",
       "1269  Tip;Bisnis (contoh: Kemeja);BPJS;Regular hours...              29 days   \n",
       "1270                                                NaN                  NaN   \n",
       "\n",
       "             company_size                               company_industry  \\\n",
       "0           1- 50 pekerja                        Manajemen/Konsulting HR   \n",
       "1           1- 50 pekerja                             Retail/Merchandise   \n",
       "2           1- 50 pekerja                        Manajemen/Konsulting HR   \n",
       "3       201 - 500 pekerja                   Perbankan/Pelayanan Keuangan   \n",
       "4           1- 50 pekerja            Makanan & Minuman/Katering/Restoran   \n",
       "...                   ...                                            ...   \n",
       "1266                  NaN                                            NaN   \n",
       "1267                  NaN                            Seni/Desain/Fashion   \n",
       "1268     51 - 200 pekerja   Automobil/Mesin Tambahan Automotif/Kendaraan   \n",
       "1269  1001 - 2000 pekerja              Pelayanan Arsitek/Desain Interior   \n",
       "1270        1- 50 pekerja  Komputer/Teknik Informatika (Perangkat Lunak)   \n",
       "\n",
       "                                        job_description  \n",
       "0     Age maximal 23 years oldCandidate must possess...  \n",
       "1     Persyaratan:•Pendidikan Minimal S1 Jurusan Aku...  \n",
       "2     About The Company:The working venue is in Jaka...  \n",
       "3     Tentang majoomajoo Teknologi Indonesia adalah ...  \n",
       "4     Bisa dan mau bekerja baik di lapangan maupun b...  \n",
       "...                                                 ...  \n",
       "1266  Requirement :Minimal 3 years experienced as Co...  \n",
       "1267  ResponsibilityDevelop, implement and manage so...  \n",
       "1268  Kualifikasinya :Pendidikan Minimal SMK Jurusan...  \n",
       "1269  Job Description:Collecting data related to mat...  \n",
       "1270  Tugas & Tanggung Jawab:Mendesain banner, flyer...  \n",
       "\n",
       "[1271 rows x 14 columns]"
      ]
     },
     "execution_count": 75,
     "metadata": {},
     "output_type": "execute_result"
    }
   ],
   "source": [
    "import numpy as np\n",
    "import pandas as pd\n",
    "\n",
    "import matplotlib.pyplot as plt\n",
    "import seaborn as sns\n",
    "\n",
    "df = pd.read_csv('predict_case.csv' ,sep='|')\n",
    "df"
   ]
  },
  {
   "cell_type": "code",
   "execution_count": 76,
   "metadata": {},
   "outputs": [],
   "source": [
    "df = df.drop(['salary_currency','job_description', 'job_benefits', 'job_title'], axis=1)"
   ]
  },
  {
   "cell_type": "code",
   "execution_count": 77,
   "metadata": {},
   "outputs": [
    {
     "name": "stdout",
     "output_type": "stream",
     "text": [
      "<class 'pandas.core.frame.DataFrame'>\n",
      "RangeIndex: 1271 entries, 0 to 1270\n",
      "Data columns (total 10 columns):\n",
      " #   Column                Non-Null Count  Dtype \n",
      "---  ------                --------------  ----- \n",
      " 0   id                    1271 non-null   int64 \n",
      " 1   location              1271 non-null   object\n",
      " 2   career_level          1271 non-null   object\n",
      " 3   experience_level      1151 non-null   object\n",
      " 4   education_level       1271 non-null   object\n",
      " 5   employment_type       1271 non-null   object\n",
      " 6   job_function          1271 non-null   object\n",
      " 7   company_process_time  816 non-null    object\n",
      " 8   company_size          1063 non-null   object\n",
      " 9   company_industry      1235 non-null   object\n",
      "dtypes: int64(1), object(9)\n",
      "memory usage: 99.4+ KB\n"
     ]
    }
   ],
   "source": [
    "df.info()"
   ]
  },
  {
   "cell_type": "code",
   "execution_count": 78,
   "metadata": {},
   "outputs": [
    {
     "data": {
      "text/plain": [
       "education_level\n",
       "3.0    732\n",
       "4.0    115\n",
       "1.0     93\n",
       "5.0      6\n",
       "Name: count, dtype: int64"
      ]
     },
     "execution_count": 78,
     "metadata": {},
     "output_type": "execute_result"
    }
   ],
   "source": [
    "df['education_level'].replace({'Sarjana (S1)': 'Sarjana',\n",
    "                               'Sertifikat Professional, D3 (Diploma), D4 (Diploma), Sarjana (S1)' : 'Sarjana',\n",
    "                               'SMA, SMU/SMK/STM, Sertifikat Professional, D3 (Diploma), D4 (Diploma), Sarjana (S1)': 'Sarjana',\n",
    "                               'Sarjana (S1), Diploma Pascasarjana, Gelar Professional, Magister (S2)' : 'Magister',\n",
    "                               'SMA, SMU/SMK/STM' : 'SMA/SMK',\n",
    "                               'Sertifikat Professional, D3 (Diploma), D4 (Diploma)' : 'Diploma',\n",
    "                               'SMA, SMU/SMK/STM, Sarjana (S1)' : 'Sarjana',\n",
    "                               'Diploma Pascasarjana, Gelar Professional, Magister (S2) ' : 'Magister',\n",
    "                               'Sarjana (S1), Diploma Pascasarjana, Gelar Professional, Magister (S2), Doktor (S3)' : 'Doktor',\n",
    "                               'Diploma Pascasarjana, Gelar Professional, Magister (S2), Doktor (S3)' : 'Doktor',\n",
    "                               'Sertifikat Professional, D3 (Diploma), D4 (Diploma), Diploma Pascasarjana, Gelar Professional, Magister (S2)' : 'Magister',\n",
    "                               'SMA, SMU/SMK/STM, Sarjana (S1), Diploma Pascasarjana, Gelar Professional, Magister (S2)' : 'Magister',\n",
    "                               'Doktor (S3)' : 'Doktor',\n",
    "                               'Sarjana (S1), Doktor (S3)' : 'Doktor',\n",
    "                               'SMA, SMU/SMK/STM, Sertifikat Professional, D3 (Diploma), D4 (Diploma), Diploma Pascasarjana, Gelar Professional, Magister (S2)' : 'Magister',\n",
    "                               'Sarjana (S1), Diploma Pascasarjana, Gelar Professional' : 'Sarjana',\n",
    "                               'Sertifikat Professional, D3 (Diploma), D4 (Diploma), Sarjana (S1), Doktor (S3)' : 'Doktor',\n",
    "                               'Sertifikat Professional, D3 (Diploma), D4 (Diploma), Sarjana (S1), Diploma Pascasarjana, Gelar Professional, Magister (S2)' : 'Magister',\n",
    "                               'SMA, SMU/SMK/STM, Sertifikat Professional, D3 (Diploma), D4 (Diploma)' : 'Diploma',\n",
    "                               'Diploma Pascasarjana, Gelar Professional, Magister (S2)' : 'Magister'}, inplace=True)\n",
    "\n",
    "# Definisikan pemetaan tipe pekerjaan ke kode yang diinginkan\n",
    "education_level_mapping = {\n",
    "    'Tidak terspesifikasi ': 0,\n",
    "    'SMA/SMK': 1,\n",
    "    'Diploma ': 2,   \n",
    "    'Sarjana': 3,\n",
    "    'Magister': 4,\n",
    "    'Doktor': 5,\n",
    "}\n",
    "\n",
    "df['education_level'] = df['education_level'].map(education_level_mapping)\n",
    "df['education_level'].value_counts()"
   ]
  },
  {
   "cell_type": "code",
   "execution_count": 79,
   "metadata": {},
   "outputs": [
    {
     "data": {
      "text/plain": [
       "company_size\n",
       "1- 50 pekerja              360\n",
       "51 - 200 pekerja           325\n",
       "201 - 500 pekerja          135\n",
       "501 - 1000 pekerja          77\n",
       "1001 - 2000 pekerja         75\n",
       "Lebih dari 5000 pekerja     51\n",
       "2001 - 5000 pekerja         40\n",
       "Name: count, dtype: int64"
      ]
     },
     "execution_count": 79,
     "metadata": {},
     "output_type": "execute_result"
    }
   ],
   "source": [
    "df['company_size'].value_counts()"
   ]
  },
  {
   "cell_type": "code",
   "execution_count": 80,
   "metadata": {},
   "outputs": [],
   "source": [
    "mapping = {\n",
    "    '1- 50 pekerja': 25,\n",
    "    '51 - 200 pekerja': 125,\n",
    "    '201 - 500 pekerja': 350,\n",
    "    '501 - 1000 pekerja': 750,\n",
    "    '1001 - 2000 pekerja': 1500,\n",
    "    '2001 - 5000 pekerja': 3500,\n",
    "    'Lebih dari 5000 pekerja': 5000\n",
    "}\n",
    "\n",
    "# Konversi kolom 'company_size' ke tipe data integer menggunakan mapping\n",
    "df['company_size'] = df['company_size'].map(mapping)\n"
   ]
  },
  {
   "cell_type": "code",
   "execution_count": 81,
   "metadata": {},
   "outputs": [
    {
     "data": {
      "text/plain": [
       "company_process_time\n",
       "29 days    128\n",
       "28 days     85\n",
       "27 days     65\n",
       "26 days     45\n",
       "24 days     41\n",
       "25 days     39\n",
       "16 days     34\n",
       "21 days     33\n",
       "30 days     30\n",
       "19 days     28\n",
       "23 days     27\n",
       "20 days     26\n",
       "14 days     24\n",
       "22 days     24\n",
       "3 days      20\n",
       "7 days      19\n",
       "18 days     18\n",
       "1 day       18\n",
       "12 days     16\n",
       "17 days     13\n",
       "5 days      12\n",
       "4 days      12\n",
       "2 days      12\n",
       "9 days       9\n",
       "11 days      8\n",
       "15 days      8\n",
       "13 days      7\n",
       "8 days       7\n",
       "10 days      5\n",
       "6 days       3\n",
       "Name: count, dtype: int64"
      ]
     },
     "execution_count": 81,
     "metadata": {},
     "output_type": "execute_result"
    }
   ],
   "source": [
    "df['company_process_time'].value_counts()"
   ]
  },
  {
   "cell_type": "code",
   "execution_count": 82,
   "metadata": {},
   "outputs": [],
   "source": [
    "df['company_process_time'] = df['company_process_time'].str.replace(' days', '')\n",
    "df['company_process_time'] = df['company_process_time'].str.replace(' day', '')\n",
    "df['company_process_time'] = df['company_process_time'].fillna(df['company_process_time'].mode()[0])\n",
    "\n",
    "df['company_process_time'] = df['company_process_time'].astype(int)"
   ]
  },
  {
   "cell_type": "code",
   "execution_count": 83,
   "metadata": {},
   "outputs": [
    {
     "name": "stdout",
     "output_type": "stream",
     "text": [
      "<class 'pandas.core.frame.DataFrame'>\n",
      "RangeIndex: 1271 entries, 0 to 1270\n",
      "Data columns (total 10 columns):\n",
      " #   Column                Non-Null Count  Dtype  \n",
      "---  ------                --------------  -----  \n",
      " 0   id                    1271 non-null   int64  \n",
      " 1   location              1271 non-null   object \n",
      " 2   career_level          1271 non-null   object \n",
      " 3   experience_level      1151 non-null   object \n",
      " 4   education_level       946 non-null    float64\n",
      " 5   employment_type       1271 non-null   object \n",
      " 6   job_function          1271 non-null   object \n",
      " 7   company_process_time  1271 non-null   int32  \n",
      " 8   company_size          1063 non-null   float64\n",
      " 9   company_industry      1235 non-null   object \n",
      "dtypes: float64(2), int32(1), int64(1), object(6)\n",
      "memory usage: 94.5+ KB\n"
     ]
    }
   ],
   "source": [
    "df.info()"
   ]
  },
  {
   "cell_type": "code",
   "execution_count": 84,
   "metadata": {},
   "outputs": [
    {
     "data": {
      "text/plain": [
       "experience_level\n",
       "1 tahun     388\n",
       "2 tahun     368\n",
       "3 tahun     222\n",
       "5 tahun     118\n",
       "4 tahun      21\n",
       "10 tahun     19\n",
       "8 tahun       6\n",
       "6 tahun       4\n",
       "7 tahun       4\n",
       "15 tahun      1\n",
       "Name: count, dtype: int64"
      ]
     },
     "execution_count": 84,
     "metadata": {},
     "output_type": "execute_result"
    }
   ],
   "source": [
    "df['experience_level'].value_counts()"
   ]
  },
  {
   "cell_type": "code",
   "execution_count": 85,
   "metadata": {},
   "outputs": [],
   "source": [
    "mapping = {\n",
    "    '1 tahun': 1, '2 tahun': 2, '3 tahun': 3, '4 tahun': 4, '5 tahun': 5,\n",
    "    '6 tahun': 6, '7 tahun': 7, '8 tahun': 8, '9 tahun': 9, '10 tahun': 10,\n",
    "    '11 tahun': 11, '12 tahun': 12, '13 tahun': 13, '14 tahun': 14,\n",
    "    '15 tahun': 15, '16 tahun': 16, '17 tahun': 17, '20 tahun': 20\n",
    "}\n",
    "\n",
    "# Konversi kolom ke tipe data integer\n",
    "df['experience_level'] = df['experience_level'].map(mapping)"
   ]
  },
  {
   "cell_type": "code",
   "execution_count": 86,
   "metadata": {},
   "outputs": [
    {
     "data": {
      "text/plain": [
       "experience_level\n",
       "1.0     388\n",
       "2.0     368\n",
       "3.0     222\n",
       "5.0     118\n",
       "4.0      21\n",
       "10.0     19\n",
       "8.0       6\n",
       "6.0       4\n",
       "7.0       4\n",
       "15.0      1\n",
       "Name: count, dtype: int64"
      ]
     },
     "execution_count": 86,
     "metadata": {},
     "output_type": "execute_result"
    }
   ],
   "source": [
    "df['experience_level'].value_counts()"
   ]
  },
  {
   "cell_type": "code",
   "execution_count": 87,
   "metadata": {},
   "outputs": [
    {
     "data": {
      "text/plain": [
       "employment_type\n",
       "Penuh Waktu             1073\n",
       "Kontrak                  168\n",
       "Paruh Waktu               18\n",
       "Magang                     5\n",
       "Temporer                   5\n",
       "Penuh Waktu, Kontrak       2\n",
       "Name: count, dtype: int64"
      ]
     },
     "execution_count": 87,
     "metadata": {},
     "output_type": "execute_result"
    }
   ],
   "source": [
    "df['employment_type'].value_counts()"
   ]
  },
  {
   "cell_type": "code",
   "execution_count": 88,
   "metadata": {},
   "outputs": [
    {
     "data": {
      "text/plain": [
       "employment_type\n",
       "4    1073\n",
       "3     170\n",
       "2      18\n",
       "0       5\n",
       "1       5\n",
       "Name: count, dtype: int64"
      ]
     },
     "execution_count": 88,
     "metadata": {},
     "output_type": "execute_result"
    }
   ],
   "source": [
    "mapping = {\n",
    "    'Penuh Waktu': 4,\n",
    "    'Kontrak': 3,\n",
    "    'Paruh Waktu': 2,\n",
    "    'Temporer': 1,\n",
    "    'Penuh Waktu, Kontrak': 3,\n",
    "    'Magang': 0,\n",
    "}\n",
    "\n",
    "# Konversi kolom ke tipe data integer\n",
    "df['employment_type'] = df['employment_type'].map(mapping)\n",
    "df['employment_type'].value_counts()"
   ]
  },
  {
   "cell_type": "code",
   "execution_count": 89,
   "metadata": {},
   "outputs": [
    {
     "data": {
      "text/plain": [
       "career_level\n",
       "Pegawai (non-manajemen & non-supervisor)             771\n",
       "Supervisor/Koordinator                               206\n",
       "Manajer/Asisten Manajer                              164\n",
       "Lulusan baru/Pengalaman kerja kurang dari 1 tahun    109\n",
       "CEO/GM/Direktur/Manajer Senior                        21\n",
       "Name: count, dtype: int64"
      ]
     },
     "execution_count": 89,
     "metadata": {},
     "output_type": "execute_result"
    }
   ],
   "source": [
    "df['career_level'].value_counts()"
   ]
  },
  {
   "cell_type": "code",
   "execution_count": 90,
   "metadata": {},
   "outputs": [
    {
     "name": "stdout",
     "output_type": "stream",
     "text": [
      "<class 'pandas.core.frame.DataFrame'>\n",
      "RangeIndex: 1271 entries, 0 to 1270\n",
      "Data columns (total 10 columns):\n",
      " #   Column                Non-Null Count  Dtype  \n",
      "---  ------                --------------  -----  \n",
      " 0   id                    1271 non-null   int64  \n",
      " 1   location              1271 non-null   object \n",
      " 2   career_level          1271 non-null   int32  \n",
      " 3   experience_level      1151 non-null   float64\n",
      " 4   education_level       946 non-null    float64\n",
      " 5   employment_type       1271 non-null   int64  \n",
      " 6   job_function          1271 non-null   object \n",
      " 7   company_process_time  1271 non-null   int32  \n",
      " 8   company_size          1063 non-null   float64\n",
      " 9   company_industry      1235 non-null   object \n",
      "dtypes: float64(3), int32(2), int64(2), object(3)\n",
      "memory usage: 89.5+ KB\n",
      "None\n"
     ]
    },
    {
     "data": {
      "text/plain": [
       "career_level\n",
       "1    771\n",
       "2    206\n",
       "3    164\n",
       "0    109\n",
       "4     21\n",
       "Name: count, dtype: int64"
      ]
     },
     "execution_count": 90,
     "metadata": {},
     "output_type": "execute_result"
    }
   ],
   "source": [
    "\n",
    "import category_encoders as ce\n",
    "encoder = ce.OrdinalEncoder(cols=['career_level'], return_df=True,\n",
    "                            mapping=[{'col':'career_level','mapping':{'Lulusan baru/Pengalaman kerja kurang dari 1 tahun': 0,\n",
    "                                                                  'Pegawai (non-manajemen & non-supervisor)': 1,\n",
    "                                                                  'Supervisor/Koordinator': 2,\n",
    "                                                                  'Manajer/Asisten Manajer': 3,\n",
    "                                                                  'CEO/GM/Direktur/Manajer Senior': 4}\n",
    "}])\n",
    "df_encoded = encoder.fit_transform(df)\n",
    "print(df_encoded.info())\n",
    "df = df_encoded\n",
    "df['career_level'].value_counts()"
   ]
  },
  {
   "cell_type": "code",
   "execution_count": 91,
   "metadata": {},
   "outputs": [
    {
     "name": "stdout",
     "output_type": "stream",
     "text": [
      "<class 'pandas.core.frame.DataFrame'>\n",
      "RangeIndex: 1271 entries, 0 to 1270\n",
      "Data columns (total 10 columns):\n",
      " #   Column                Non-Null Count  Dtype  \n",
      "---  ------                --------------  -----  \n",
      " 0   id                    1271 non-null   int64  \n",
      " 1   location              1271 non-null   object \n",
      " 2   career_level          1271 non-null   int32  \n",
      " 3   experience_level      1151 non-null   float64\n",
      " 4   education_level       946 non-null    float64\n",
      " 5   employment_type       1271 non-null   int64  \n",
      " 6   job_function          1271 non-null   object \n",
      " 7   company_process_time  1271 non-null   int32  \n",
      " 8   company_size          1063 non-null   float64\n",
      " 9   company_industry      1235 non-null   object \n",
      "dtypes: float64(3), int32(2), int64(2), object(3)\n",
      "memory usage: 89.5+ KB\n"
     ]
    }
   ],
   "source": [
    "df.info()"
   ]
  },
  {
   "cell_type": "code",
   "execution_count": 92,
   "metadata": {},
   "outputs": [],
   "source": [
    "df.to_csv('cleaned2.csv', index=False)\n"
   ]
  }
 ],
 "metadata": {
  "kernelspec": {
   "display_name": "Python 3",
   "language": "python",
   "name": "python3"
  },
  "language_info": {
   "codemirror_mode": {
    "name": "ipython",
    "version": 3
   },
   "file_extension": ".py",
   "mimetype": "text/x-python",
   "name": "python",
   "nbconvert_exporter": "python",
   "pygments_lexer": "ipython3",
   "version": "3.11.5"
  }
 },
 "nbformat": 4,
 "nbformat_minor": 2
}
